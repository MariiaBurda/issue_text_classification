{
  "nbformat": 4,
  "nbformat_minor": 0,
  "metadata": {
    "colab": {
      "name": "issue_text_classification.ipynb",
      "provenance": [],
      "collapsed_sections": [
        "YpGZKx7tD8VQ",
        "Nt9kwgWlEu3E",
        "PNp1uXyuXpfA"
      ],
      "authorship_tag": "ABX9TyMRggSISznAi589GeXhqlef",
      "include_colab_link": true
    },
    "kernelspec": {
      "display_name": "Python 3",
      "name": "python3"
    },
    "language_info": {
      "name": "python"
    }
  },
  "cells": [
    {
      "cell_type": "markdown",
      "metadata": {
        "id": "view-in-github",
        "colab_type": "text"
      },
      "source": [
        "<a href=\"https://colab.research.google.com/github/MariiaBurda/issue_text_classification/blob/main/issue_text_classification.ipynb\" target=\"_parent\"><img src=\"https://colab.research.google.com/assets/colab-badge.svg\" alt=\"Open In Colab\"/></a>"
      ]
    },
    {
      "cell_type": "markdown",
      "metadata": {
        "id": "XMGASyNO_eDw"
      },
      "source": [
        "#Load dataset"
      ]
    },
    {
      "cell_type": "code",
      "metadata": {
        "id": "bOW8PjJk99ZO"
      },
      "source": [
        "import numpy as np\n",
        "import pandas as pd"
      ],
      "execution_count": 4,
      "outputs": []
    },
    {
      "cell_type": "code",
      "metadata": {
        "id": "p4WS9qA0-4HF",
        "colab": {
          "resources": {
            "http://localhost:8080/nbextensions/google.colab/files.js": {
              "data": "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",
              "ok": true,
              "headers": [
                [
                  "content-type",
                  "application/javascript"
                ]
              ],
              "status": 200,
              "status_text": ""
            }
          },
          "base_uri": "https://localhost:8080/",
          "height": 106
        },
        "outputId": "70bca8af-28a3-480c-9c8f-f5f6abd610bf"
      },
      "source": [
        "# Import data from local drive\n",
        "from google.colab import files\n",
        "uploaded = files.upload()"
      ],
      "execution_count": 5,
      "outputs": [
        {
          "output_type": "display_data",
          "data": {
            "text/html": [
              "\n",
              "     <input type=\"file\" id=\"files-91608590-4e1a-4292-9b21-1871b2efea1c\" name=\"files[]\" multiple disabled\n",
              "        style=\"border:none\" />\n",
              "     <output id=\"result-91608590-4e1a-4292-9b21-1871b2efea1c\">\n",
              "      Upload widget is only available when the cell has been executed in the\n",
              "      current browser session. Please rerun this cell to enable.\n",
              "      </output>\n",
              "      <script src=\"/nbextensions/google.colab/files.js\"></script> "
            ],
            "text/plain": [
              "<IPython.core.display.HTML object>"
            ]
          },
          "metadata": {
            "tags": []
          }
        },
        {
          "output_type": "stream",
          "text": [
            "Saving test.csv to test.csv\n",
            "Saving train.xlsx to train.xlsx\n"
          ],
          "name": "stdout"
        }
      ]
    },
    {
      "cell_type": "code",
      "metadata": {
        "id": "DmftDOxo_qfL"
      },
      "source": [
        "import io"
      ],
      "execution_count": 6,
      "outputs": []
    },
    {
      "cell_type": "code",
      "metadata": {
        "id": "IF0SG07W_spk"
      },
      "source": [
        "train_df = pd.read_excel(io.BytesIO(uploaded['train.xlsx']))\n",
        "control_df = pd.read_csv(io.BytesIO(uploaded['test.csv']))"
      ],
      "execution_count": 7,
      "outputs": []
    },
    {
      "cell_type": "code",
      "metadata": {
        "id": "zmZu7cFfAkuo"
      },
      "source": [
        "text_train_to_split, y_train = train_df['sentence'].values, train_df['values'].values"
      ],
      "execution_count": 8,
      "outputs": []
    },
    {
      "cell_type": "code",
      "metadata": {
        "id": "2wZqxPspBReI",
        "colab": {
          "base_uri": "https://localhost:8080/"
        },
        "outputId": "3b0f826f-63f8-4729-9082-cbff3fcbaeb0"
      },
      "source": [
        "print(type(text_train_to_split))\n",
        "print(len(text_train_to_split))"
      ],
      "execution_count": 9,
      "outputs": [
        {
          "output_type": "stream",
          "text": [
            "<class 'numpy.ndarray'>\n",
            "1341\n"
          ],
          "name": "stdout"
        }
      ]
    },
    {
      "cell_type": "code",
      "metadata": {
        "id": "Th18PsfMBptl",
        "colab": {
          "base_uri": "https://localhost:8080/"
        },
        "outputId": "9871b637-b07b-43a2-b216-643c5df47dc3"
      },
      "source": [
        "# number of example per class\n",
        "print(np.bincount(y_train))"
      ],
      "execution_count": 10,
      "outputs": [
        {
          "output_type": "stream",
          "text": [
            "[688 653]\n"
          ],
          "name": "stdout"
        }
      ]
    },
    {
      "cell_type": "markdown",
      "metadata": {
        "id": "LNgyK9ELx2dR"
      },
      "source": [
        "Як бачимо, навчальні дані є майже збалансованими"
      ]
    },
    {
      "cell_type": "code",
      "metadata": {
        "id": "Q7fZmccSB22e"
      },
      "source": [
        "text_control, y_control = control_df['sentence'].values, control_df['label'].values"
      ],
      "execution_count": 11,
      "outputs": []
    },
    {
      "cell_type": "code",
      "metadata": {
        "id": "YqHPA3X2B_ls",
        "colab": {
          "base_uri": "https://localhost:8080/"
        },
        "outputId": "63a7903c-df29-4a84-e916-00493f6dd985"
      },
      "source": [
        "print(len(text_control))\n",
        "print(np.bincount(y_control))"
      ],
      "execution_count": 12,
      "outputs": [
        {
          "output_type": "stream",
          "text": [
            "441\n",
            "[107 334]\n"
          ],
          "name": "stdout"
        }
      ]
    },
    {
      "cell_type": "markdown",
      "metadata": {
        "id": "-gaZJc9eyJOH"
      },
      "source": [
        "Контрольні дані не є збалансовані"
      ]
    },
    {
      "cell_type": "markdown",
      "metadata": {
        "id": "uRwRaASGc5Ul"
      },
      "source": [
        "Ділимо train_df на навчальні і тестові дані"
      ]
    },
    {
      "cell_type": "code",
      "metadata": {
        "id": "oQdKPZgXcxtH"
      },
      "source": [
        "from sklearn.model_selection import train_test_split\n",
        "text_train, text_test, y_train, y_test = train_test_split(text_train_to_split, y_train, test_size=0.30, random_state=0)"
      ],
      "execution_count": 13,
      "outputs": []
    },
    {
      "cell_type": "code",
      "metadata": {
        "id": "wntz7i7Lvqeh",
        "colab": {
          "base_uri": "https://localhost:8080/"
        },
        "outputId": "a849ad99-5507-42df-e68c-a8924a7ddd30"
      },
      "source": [
        "print(len(y_train))\n",
        "print(len(y_test))"
      ],
      "execution_count": 14,
      "outputs": [
        {
          "output_type": "stream",
          "text": [
            "938\n",
            "403\n"
          ],
          "name": "stdout"
        }
      ]
    },
    {
      "cell_type": "code",
      "metadata": {
        "id": "G4jG0tql8t7C",
        "colab": {
          "base_uri": "https://localhost:8080/"
        },
        "outputId": "aa329b74-f0c8-422a-8330-c2c51b0a4e3d"
      },
      "source": [
        "print(y_test)"
      ],
      "execution_count": 15,
      "outputs": [
        {
          "output_type": "stream",
          "text": [
            "[0 0 1 1 0 1 1 0 1 0 1 1 0 0 0 1 0 1 0 1 0 0 1 1 0 1 1 0 1 0 0 0 1 0 1 0 0\n",
            " 1 0 0 0 1 0 1 1 1 0 0 1 0 1 0 1 0 1 0 1 0 1 0 1 1 1 1 1 0 1 1 1 0 0 0 0 1\n",
            " 0 0 1 1 0 1 1 0 1 1 1 0 1 0 0 1 1 1 0 0 0 0 0 1 0 0 0 1 0 1 1 0 1 0 1 1 1\n",
            " 0 0 1 1 1 0 0 1 0 0 1 1 1 1 1 1 1 1 1 1 1 0 1 0 0 1 0 0 1 0 0 1 1 0 0 1 0\n",
            " 1 1 1 0 1 0 1 1 0 1 0 1 1 0 0 0 0 0 0 1 1 1 0 1 1 1 0 0 0 0 0 0 1 0 1 1 1\n",
            " 1 1 0 1 0 1 0 0 1 1 0 1 0 0 0 0 0 0 0 1 1 1 0 1 0 0 0 1 1 1 1 0 0 1 0 1 0\n",
            " 0 0 0 1 0 0 0 0 0 1 1 0 0 0 1 0 1 1 0 0 1 0 1 1 1 0 1 0 0 1 1 0 0 0 1 1 0\n",
            " 0 1 0 1 0 1 1 1 0 1 0 0 0 1 1 0 1 1 1 1 0 0 0 0 0 1 1 0 0 0 0 1 1 0 1 0 1\n",
            " 1 0 0 0 1 0 1 1 1 0 0 0 1 1 0 0 1 1 1 0 0 0 1 0 0 0 1 1 0 0 0 1 1 0 0 1 1\n",
            " 1 1 0 0 0 1 0 1 1 1 0 0 1 0 0 1 0 1 0 1 1 1 1 1 0 1 0 1 0 1 0 0 1 1 1 1 0\n",
            " 1 1 1 1 0 1 1 0 0 1 1 1 1 0 1 0 0 0 1 1 1 0 0 1 0 0 1 0 1 0 1 1 0]\n"
          ],
          "name": "stdout"
        }
      ]
    },
    {
      "cell_type": "code",
      "metadata": {
        "id": "vGbZoOwd-EJp",
        "colab": {
          "base_uri": "https://localhost:8080/"
        },
        "outputId": "6400c68b-8509-4a99-fe4a-ff743e3785d0"
      },
      "source": [
        "print(y_test.tolist().count(1))"
      ],
      "execution_count": 16,
      "outputs": [
        {
          "output_type": "stream",
          "text": [
            "203\n"
          ],
          "name": "stdout"
        }
      ]
    },
    {
      "cell_type": "code",
      "metadata": {
        "id": "vbzdXVQsvbrx",
        "colab": {
          "base_uri": "https://localhost:8080/"
        },
        "outputId": "362fe4ea-b721-4c69-ec50-3a3f44629782"
      },
      "source": [
        "# number of example per class\n",
        "print(np.bincount(y_train))"
      ],
      "execution_count": 17,
      "outputs": [
        {
          "output_type": "stream",
          "text": [
            "[488 450]\n"
          ],
          "name": "stdout"
        }
      ]
    },
    {
      "cell_type": "code",
      "metadata": {
        "id": "Fz8J5mOHw3Dp",
        "colab": {
          "base_uri": "https://localhost:8080/"
        },
        "outputId": "1dd37abe-2cfc-407e-f5bc-1d8372b17bf6"
      },
      "source": [
        "# number of example per class\n",
        "print(np.bincount(y_test))"
      ],
      "execution_count": 18,
      "outputs": [
        {
          "output_type": "stream",
          "text": [
            "[200 203]\n"
          ],
          "name": "stdout"
        }
      ]
    },
    {
      "cell_type": "markdown",
      "metadata": {
        "id": "UWDEM7izgG3F"
      },
      "source": [
        "Ділимо навчальні дані на два класи: позитивний і негативний"
      ]
    },
    {
      "cell_type": "code",
      "metadata": {
        "id": "N_JSaLqKeml5"
      },
      "source": [
        "#no issue\n",
        "pos_class_df = train_df[train_df.values==0]\n",
        "# issue\n",
        "neg_class_df = train_df[train_df.values==1]"
      ],
      "execution_count": 19,
      "outputs": []
    },
    {
      "cell_type": "code",
      "metadata": {
        "id": "_xSfPJ5Zjsvb"
      },
      "source": [
        "pos_text_train, pos_y_train = pos_class_df['sentence'].values, pos_class_df['values'].values"
      ],
      "execution_count": 20,
      "outputs": []
    },
    {
      "cell_type": "code",
      "metadata": {
        "id": "qqto_7_ikIeR"
      },
      "source": [
        "neg_text_train, neg_y_train = neg_class_df['sentence'].values, neg_class_df['values'].values"
      ],
      "execution_count": 21,
      "outputs": []
    },
    {
      "cell_type": "markdown",
      "metadata": {
        "id": "TerWywfSCV5y"
      },
      "source": [
        "#Simple 'bag of words' representation"
      ]
    },
    {
      "cell_type": "code",
      "metadata": {
        "id": "FhE2liB9DP0d"
      },
      "source": [
        "from sklearn.feature_extraction.text import CountVectorizer"
      ],
      "execution_count": 19,
      "outputs": []
    },
    {
      "cell_type": "code",
      "metadata": {
        "id": "4zRgAXYtDXD2"
      },
      "source": [
        "vect = CountVectorizer(min_df=1).fit(text_train)\n",
        "X_train = vect.transform(text_train)"
      ],
      "execution_count": 20,
      "outputs": []
    },
    {
      "cell_type": "code",
      "metadata": {
        "id": "-kKFFpY8KRPn"
      },
      "source": [
        "X_test = vect.transform(text_test)"
      ],
      "execution_count": 21,
      "outputs": []
    },
    {
      "cell_type": "code",
      "metadata": {
        "id": "2pugpZERw_b-",
        "colab": {
          "base_uri": "https://localhost:8080/"
        },
        "outputId": "a068b9ba-2977-4fcd-dbfa-9bcf6e7c8a70"
      },
      "source": [
        "print(X_test)"
      ],
      "execution_count": 22,
      "outputs": [
        {
          "output_type": "stream",
          "text": [
            "  (0, 185)\t1\n",
            "  (0, 203)\t1\n",
            "  (0, 256)\t1\n",
            "  (0, 413)\t1\n",
            "  (0, 770)\t1\n",
            "  (0, 1339)\t1\n",
            "  (0, 1499)\t1\n",
            "  (0, 1742)\t1\n",
            "  (0, 1767)\t1\n",
            "  (0, 2091)\t1\n",
            "  (0, 2281)\t1\n",
            "  (0, 2468)\t1\n",
            "  (0, 2519)\t1\n",
            "  (0, 2531)\t1\n",
            "  (0, 2552)\t1\n",
            "  (0, 2582)\t1\n",
            "  (0, 2760)\t1\n",
            "  (0, 2775)\t1\n",
            "  (1, 153)\t1\n",
            "  (1, 776)\t1\n",
            "  (1, 1173)\t1\n",
            "  (1, 1211)\t1\n",
            "  (1, 1339)\t1\n",
            "  (1, 1381)\t1\n",
            "  (1, 1464)\t1\n",
            "  :\t:\n",
            "  (400, 2582)\t1\n",
            "  (400, 2760)\t1\n",
            "  (400, 2813)\t1\n",
            "  (401, 153)\t1\n",
            "  (401, 157)\t1\n",
            "  (401, 160)\t1\n",
            "  (401, 252)\t1\n",
            "  (401, 418)\t1\n",
            "  (401, 497)\t1\n",
            "  (401, 1025)\t1\n",
            "  (401, 1152)\t1\n",
            "  (401, 1339)\t1\n",
            "  (401, 1342)\t1\n",
            "  (401, 1346)\t1\n",
            "  (401, 1514)\t1\n",
            "  (401, 1542)\t1\n",
            "  (401, 1711)\t1\n",
            "  (401, 1729)\t1\n",
            "  (401, 1987)\t1\n",
            "  (401, 2171)\t1\n",
            "  (401, 2489)\t1\n",
            "  (401, 2532)\t6\n",
            "  (401, 2780)\t1\n",
            "  (402, 1610)\t1\n",
            "  (402, 2323)\t1\n"
          ],
          "name": "stdout"
        }
      ]
    },
    {
      "cell_type": "code",
      "metadata": {
        "id": "44ShahdWLuf3"
      },
      "source": [
        "X_control = vect.transform(text_control)"
      ],
      "execution_count": 23,
      "outputs": []
    },
    {
      "cell_type": "code",
      "metadata": {
        "id": "lVBqkAHzETEk",
        "colab": {
          "base_uri": "https://localhost:8080/"
        },
        "outputId": "bf8bd56a-8b37-4aa0-8107-650c01e670b1"
      },
      "source": [
        "print(repr(X_train))"
      ],
      "execution_count": 24,
      "outputs": [
        {
          "output_type": "stream",
          "text": [
            "<938x2843 sparse matrix of type '<class 'numpy.int64'>'\n",
            "\twith 15806 stored elements in Compressed Sparse Row format>\n"
          ],
          "name": "stdout"
        }
      ]
    },
    {
      "cell_type": "code",
      "metadata": {
        "id": "pJMcYQylEdta",
        "colab": {
          "base_uri": "https://localhost:8080/"
        },
        "outputId": "1bc9d377-4de7-4848-ca38-cfddd7080fc8"
      },
      "source": [
        "feature_names = vect.get_feature_names()\n",
        "print(\"Feature amount: {}\".format(len(feature_names)))\n",
        "print(\"20 features: \\n{}\".format(feature_names[:20]))\n",
        "print(\"features from 2000 to 2010:\\n{}\".format(feature_names[2000:2010]))\n",
        "print(\"each 200-th feature:\\n{}\".format(feature_names[::200]))"
      ],
      "execution_count": 25,
      "outputs": [
        {
          "output_type": "stream",
          "text": [
            "Feature amount: 2843\n",
            "20 features: \n",
            "['00', '05', '10', '11', '12', '120', '125', '13', '14', '15', '150', '15th', '17', '18', '1963', '1968', '1978', '1979', '1988', '1a']\n",
            "features from 2000 to 2010:\n",
            "['questionable', 'questions', 'quickly', 'quid', 'quite', 'quo', 'quotations', 'racially', 'raise', 'raised']\n",
            "each 200-th feature:\n",
            "['00', 'arrangement', 'cast', 'create', 'dvp', 'first', 'hopefully', 'latter', 'morning', 'paragraph', 'questionable', 'saudi', 'statutory', 'trajectory', 'won']\n"
          ],
          "name": "stdout"
        }
      ]
    },
    {
      "cell_type": "markdown",
      "metadata": {
        "id": "-JfxdBKXkRc3"
      },
      "source": [
        "У нас є навчальні мітки, які зберігаються в масиві y_train і навчальні дані, представлені в вигляді \"мішка слів\" в масиві X_train, тому ми можемо навчити класифікатор по цих даних. Як правило, для схожих висоророзмірних розріджених даних краще всього працюють лінійні моделі типу LogisticRegression."
      ]
    },
    {
      "cell_type": "markdown",
      "metadata": {
        "id": "8IfgjUee3sJZ"
      },
      "source": [
        "# LogisticRegression"
      ]
    },
    {
      "cell_type": "code",
      "metadata": {
        "id": "sqlf604LIVII"
      },
      "source": [
        "from sklearn.model_selection import cross_val_score\n",
        "from sklearn.linear_model import LogisticRegression\n",
        "from sklearn.metrics import classification_report, confusion_matrix\n",
        "from sklearn.model_selection import GridSearchCV"
      ],
      "execution_count": 33,
      "outputs": []
    },
    {
      "cell_type": "code",
      "metadata": {
        "id": "9V1bbCmsIeIP"
      },
      "source": [
        "scores = cross_val_score(LogisticRegression(), X_train, y_train, cv=5)"
      ],
      "execution_count": 27,
      "outputs": []
    },
    {
      "cell_type": "code",
      "metadata": {
        "id": "X9ZpTQvBIqP0",
        "colab": {
          "base_uri": "https://localhost:8080/"
        },
        "outputId": "0cc8c4e8-da08-4cd4-ae3b-a1c03a8e5338"
      },
      "source": [
        "print(np.mean(scores))"
      ],
      "execution_count": 28,
      "outputs": [
        {
          "output_type": "stream",
          "text": [
            "0.8635737854135851\n"
          ],
          "name": "stdout"
        }
      ]
    },
    {
      "cell_type": "code",
      "metadata": {
        "id": "yQtjVW1sI5lV"
      },
      "source": [
        "param_grid = { 'C': [0.001, 0.01, 0.1, 1, 10]}\n",
        "grid = GridSearchCV(LogisticRegression(max_iter=1000), param_grid, cv=5)"
      ],
      "execution_count": 29,
      "outputs": []
    },
    {
      "cell_type": "code",
      "metadata": {
        "id": "FrTYrZ-hJUGJ",
        "colab": {
          "base_uri": "https://localhost:8080/"
        },
        "outputId": "0eb6a402-9457-48f8-9449-166b1e369a4b"
      },
      "source": [
        "grid.fit(X_train, y_train)"
      ],
      "execution_count": 30,
      "outputs": [
        {
          "output_type": "execute_result",
          "data": {
            "text/plain": [
              "GridSearchCV(cv=5, error_score=nan,\n",
              "             estimator=LogisticRegression(C=1.0, class_weight=None, dual=False,\n",
              "                                          fit_intercept=True,\n",
              "                                          intercept_scaling=1, l1_ratio=None,\n",
              "                                          max_iter=1000, multi_class='auto',\n",
              "                                          n_jobs=None, penalty='l2',\n",
              "                                          random_state=None, solver='lbfgs',\n",
              "                                          tol=0.0001, verbose=0,\n",
              "                                          warm_start=False),\n",
              "             iid='deprecated', n_jobs=None,\n",
              "             param_grid={'C': [0.001, 0.01, 0.1, 1, 10]},\n",
              "             pre_dispatch='2*n_jobs', refit=True, return_train_score=False,\n",
              "             scoring=None, verbose=0)"
            ]
          },
          "metadata": {
            "tags": []
          },
          "execution_count": 30
        }
      ]
    },
    {
      "cell_type": "code",
      "metadata": {
        "id": "zSfKFY7fJ-L8",
        "colab": {
          "base_uri": "https://localhost:8080/"
        },
        "outputId": "1115cc41-c000-413e-90f6-ee369b680aa8"
      },
      "source": [
        "print(grid.best_score_)\n",
        "print(grid.best_params_)"
      ],
      "execution_count": 31,
      "outputs": [
        {
          "output_type": "stream",
          "text": [
            "0.8635737854135851\n",
            "{'C': 1}\n"
          ],
          "name": "stdout"
        }
      ]
    },
    {
      "cell_type": "code",
      "metadata": {
        "id": "V7w-msfEvyVs",
        "colab": {
          "base_uri": "https://localhost:8080/"
        },
        "outputId": "db5886c0-12cc-4e15-b953-a94e0641a1ab"
      },
      "source": [
        "print(X_test.shape)\n",
        "print(np.bincount(y_test))"
      ],
      "execution_count": 32,
      "outputs": [
        {
          "output_type": "stream",
          "text": [
            "(403, 2843)\n",
            "[200 203]\n"
          ],
          "name": "stdout"
        }
      ]
    },
    {
      "cell_type": "code",
      "metadata": {
        "id": "GnT80H_KKgnA",
        "colab": {
          "base_uri": "https://localhost:8080/"
        },
        "outputId": "63707fc8-174c-4389-a8d5-eaae66742da0"
      },
      "source": [
        "# score on training data\n",
        "grid.score(X_train, y_train)"
      ],
      "execution_count": 33,
      "outputs": [
        {
          "output_type": "execute_result",
          "data": {
            "text/plain": [
              "0.9893390191897654"
            ]
          },
          "metadata": {
            "tags": []
          },
          "execution_count": 33
        }
      ]
    },
    {
      "cell_type": "code",
      "metadata": {
        "id": "LqF6otnEKXc8",
        "colab": {
          "base_uri": "https://localhost:8080/"
        },
        "outputId": "73b3d62f-68dd-4c87-e3cb-ea8295a464ed"
      },
      "source": [
        "# score on test data\n",
        "grid.score(X_test, y_test)"
      ],
      "execution_count": 34,
      "outputs": [
        {
          "output_type": "execute_result",
          "data": {
            "text/plain": [
              "0.8287841191066998"
            ]
          },
          "metadata": {
            "tags": []
          },
          "execution_count": 34
        }
      ]
    },
    {
      "cell_type": "markdown",
      "metadata": {
        "id": "of_EVb_J6un3"
      },
      "source": [
        "Check metrics on test data"
      ]
    },
    {
      "cell_type": "code",
      "metadata": {
        "id": "8_xSc0ahC-mc",
        "colab": {
          "base_uri": "https://localhost:8080/"
        },
        "outputId": "bea32d91-d8e4-43d7-ce78-65a2a64211fe"
      },
      "source": [
        "print(classification_report(grid.predict(X_test), y_test)) "
      ],
      "execution_count": 35,
      "outputs": [
        {
          "output_type": "stream",
          "text": [
            "              precision    recall  f1-score   support\n",
            "\n",
            "           0       0.79      0.86      0.82       183\n",
            "           1       0.87      0.80      0.84       220\n",
            "\n",
            "    accuracy                           0.83       403\n",
            "   macro avg       0.83      0.83      0.83       403\n",
            "weighted avg       0.83      0.83      0.83       403\n",
            "\n"
          ],
          "name": "stdout"
        }
      ]
    },
    {
      "cell_type": "markdown",
      "metadata": {
        "id": "FSVfQR8rL1ZM"
      },
      "source": [
        "Check metrics on control data"
      ]
    },
    {
      "cell_type": "code",
      "metadata": {
        "id": "SVL9bPXCL7kc",
        "colab": {
          "base_uri": "https://localhost:8080/"
        },
        "outputId": "133aeb57-4c6e-4a68-9e71-311a668a723e"
      },
      "source": [
        "print(classification_report(grid.predict(X_control), y_control)) "
      ],
      "execution_count": 36,
      "outputs": [
        {
          "output_type": "stream",
          "text": [
            "              precision    recall  f1-score   support\n",
            "\n",
            "           0       0.96      0.76      0.85       136\n",
            "           1       0.90      0.99      0.94       305\n",
            "\n",
            "    accuracy                           0.92       441\n",
            "   macro avg       0.93      0.87      0.89       441\n",
            "weighted avg       0.92      0.92      0.91       441\n",
            "\n"
          ],
          "name": "stdout"
        }
      ]
    },
    {
      "cell_type": "markdown",
      "metadata": {
        "id": "ZtG9zqMUyq8F"
      },
      "source": [
        "Ми бачимо, що показники precision, recall і f1-score для класу 0 є нижчими, ніж для класу 1. Скоріш за все це через те, що кількість екземплярів класу 0 більш, ніж в 2 р менше, ніж класу 1."
      ]
    },
    {
      "cell_type": "markdown",
      "metadata": {
        "id": "y3Sslg6Y8zzi"
      },
      "source": [
        "#LinearSVC - лінійний метод опорних векторів"
      ]
    },
    {
      "cell_type": "code",
      "metadata": {
        "id": "viB8Y4mq9LVC"
      },
      "source": [
        "from sklearn.svm import LinearSVC"
      ],
      "execution_count": 34,
      "outputs": []
    },
    {
      "cell_type": "code",
      "metadata": {
        "id": "wXguw4wQ9LVb"
      },
      "source": [
        "scores = cross_val_score(LinearSVC(max_iter=1000), X_train, y_train, cv=5)"
      ],
      "execution_count": 45,
      "outputs": []
    },
    {
      "cell_type": "code",
      "metadata": {
        "id": "WGrtpQiv9LVc",
        "colab": {
          "base_uri": "https://localhost:8080/"
        },
        "outputId": "3030920d-2028-4134-9f1e-053e315ea690"
      },
      "source": [
        "print(np.mean(scores))"
      ],
      "execution_count": 46,
      "outputs": [
        {
          "output_type": "stream",
          "text": [
            "0.8592900216179314\n"
          ],
          "name": "stdout"
        }
      ]
    },
    {
      "cell_type": "code",
      "metadata": {
        "id": "uhbIdNuI9LVf"
      },
      "source": [
        "param_grid = { 'C': [0.001, 0.01, 0.1, 1, 10]}\n",
        "grid = GridSearchCV(LinearSVC(max_iter=100000), param_grid, cv=5)"
      ],
      "execution_count": 47,
      "outputs": []
    },
    {
      "cell_type": "code",
      "metadata": {
        "id": "6Q4RjK549LVf",
        "colab": {
          "base_uri": "https://localhost:8080/"
        },
        "outputId": "eaa9a80c-40d5-4f7a-fe37-1583cfc33607"
      },
      "source": [
        "grid.fit(X_train, y_train)"
      ],
      "execution_count": 48,
      "outputs": [
        {
          "output_type": "execute_result",
          "data": {
            "text/plain": [
              "GridSearchCV(cv=5, error_score=nan,\n",
              "             estimator=LinearSVC(C=1.0, class_weight=None, dual=True,\n",
              "                                 fit_intercept=True, intercept_scaling=1,\n",
              "                                 loss='squared_hinge', max_iter=100000,\n",
              "                                 multi_class='ovr', penalty='l2',\n",
              "                                 random_state=None, tol=0.0001, verbose=0),\n",
              "             iid='deprecated', n_jobs=None,\n",
              "             param_grid={'C': [0.001, 0.01, 0.1, 1, 10]},\n",
              "             pre_dispatch='2*n_jobs', refit=True, return_train_score=False,\n",
              "             scoring=None, verbose=0)"
            ]
          },
          "metadata": {
            "tags": []
          },
          "execution_count": 48
        }
      ]
    },
    {
      "cell_type": "code",
      "metadata": {
        "id": "7pPDvKwt9LVg",
        "colab": {
          "base_uri": "https://localhost:8080/"
        },
        "outputId": "49b36233-8f0b-4e62-a665-4ad4da1a7e68"
      },
      "source": [
        "print(grid.best_score_)\n",
        "print(grid.best_params_)"
      ],
      "execution_count": 49,
      "outputs": [
        {
          "output_type": "stream",
          "text": [
            "0.8678404824212083\n",
            "{'C': 0.1}\n"
          ],
          "name": "stdout"
        }
      ]
    },
    {
      "cell_type": "code",
      "metadata": {
        "id": "7hNbe9bH9LVh",
        "colab": {
          "base_uri": "https://localhost:8080/"
        },
        "outputId": "343290d9-90ef-4ba5-8755-635131e29e57"
      },
      "source": [
        "# score on training data\n",
        "grid.score(X_train, y_train)"
      ],
      "execution_count": 50,
      "outputs": [
        {
          "output_type": "execute_result",
          "data": {
            "text/plain": [
              "0.990405117270789"
            ]
          },
          "metadata": {
            "tags": []
          },
          "execution_count": 50
        }
      ]
    },
    {
      "cell_type": "code",
      "metadata": {
        "id": "QRTIN25h2gVU",
        "colab": {
          "base_uri": "https://localhost:8080/"
        },
        "outputId": "461555ca-86b8-41f9-ab48-e0a911e6770d"
      },
      "source": [
        "print(X_test.shape)\n",
        "print(np.bincount(y_test))"
      ],
      "execution_count": 51,
      "outputs": [
        {
          "output_type": "stream",
          "text": [
            "(403, 2843)\n",
            "[200 203]\n"
          ],
          "name": "stdout"
        }
      ]
    },
    {
      "cell_type": "code",
      "metadata": {
        "id": "0qvZ8Lm-9LVj",
        "colab": {
          "base_uri": "https://localhost:8080/"
        },
        "outputId": "0717a4a4-8064-4351-8327-0d442fc0a3ad"
      },
      "source": [
        "# score on test data\n",
        "grid.score(X_test, y_test)"
      ],
      "execution_count": 52,
      "outputs": [
        {
          "output_type": "execute_result",
          "data": {
            "text/plain": [
              "0.8362282878411911"
            ]
          },
          "metadata": {
            "tags": []
          },
          "execution_count": 52
        }
      ]
    },
    {
      "cell_type": "code",
      "metadata": {
        "id": "DYpSRIxT9LVk",
        "colab": {
          "base_uri": "https://localhost:8080/"
        },
        "outputId": "100062a0-f412-4bac-c554-63a34ae5ff5d"
      },
      "source": [
        "print(classification_report(grid.predict(X_test), y_test)) "
      ],
      "execution_count": 53,
      "outputs": [
        {
          "output_type": "stream",
          "text": [
            "              precision    recall  f1-score   support\n",
            "\n",
            "           0       0.79      0.87      0.83       180\n",
            "           1       0.89      0.81      0.85       223\n",
            "\n",
            "    accuracy                           0.84       403\n",
            "   macro avg       0.84      0.84      0.84       403\n",
            "weighted avg       0.84      0.84      0.84       403\n",
            "\n"
          ],
          "name": "stdout"
        }
      ]
    },
    {
      "cell_type": "markdown",
      "metadata": {
        "id": "9_3sS4QAMLyA"
      },
      "source": [
        "Check metrics on control data"
      ]
    },
    {
      "cell_type": "code",
      "metadata": {
        "id": "4iEsRGcIMJ4b",
        "colab": {
          "base_uri": "https://localhost:8080/"
        },
        "outputId": "defba2e9-0dca-4bd8-8fa0-cf277b1de720"
      },
      "source": [
        "print(classification_report(grid.predict(X_control), y_control)) "
      ],
      "execution_count": 54,
      "outputs": [
        {
          "output_type": "stream",
          "text": [
            "              precision    recall  f1-score   support\n",
            "\n",
            "           0       0.97      0.76      0.85       137\n",
            "           1       0.90      0.99      0.94       304\n",
            "\n",
            "    accuracy                           0.92       441\n",
            "   macro avg       0.94      0.87      0.90       441\n",
            "weighted avg       0.92      0.92      0.92       441\n",
            "\n"
          ],
          "name": "stdout"
        }
      ]
    },
    {
      "cell_type": "markdown",
      "metadata": {
        "id": "-SZelmop-URB"
      },
      "source": [
        "Лінійний метод опорних векторів показав однакову результативність на контрольних даних і кращу результативність, ніж лінійна регресія на тестових"
      ]
    },
    {
      "cell_type": "markdown",
      "metadata": {
        "id": "4BUZ2XYu3Jnw"
      },
      "source": [
        "# SVC - Ядерний метод опорних векторів"
      ]
    },
    {
      "cell_type": "code",
      "metadata": {
        "id": "Ohzd5Z84zyND"
      },
      "source": [
        "from sklearn.svm import SVC"
      ],
      "execution_count": 35,
      "outputs": []
    },
    {
      "cell_type": "code",
      "metadata": {
        "id": "VsWBFHfP23q1"
      },
      "source": [
        "scores = cross_val_score(SVC(max_iter=3000), X_train, y_train, cv=5)"
      ],
      "execution_count": 63,
      "outputs": []
    },
    {
      "cell_type": "code",
      "metadata": {
        "id": "EOSkpc553XCX",
        "colab": {
          "base_uri": "https://localhost:8080/"
        },
        "outputId": "abd2cf96-4670-4526-d1b6-cc2bec3c2e4e"
      },
      "source": [
        "print(np.mean(scores))"
      ],
      "execution_count": 64,
      "outputs": [
        {
          "output_type": "stream",
          "text": [
            "0.8678063488451475\n"
          ],
          "name": "stdout"
        }
      ]
    },
    {
      "cell_type": "code",
      "metadata": {
        "id": "cmC4UKB84Ich"
      },
      "source": [
        "param_grid = {'C': [0.001, 0.01, 0.1, 1, 10],\n",
        "              'gamma': [0.001, 0.01, 0.1, 1, 10]}\n",
        "grid = GridSearchCV(SVC(max_iter=3000), param_grid, cv=5)"
      ],
      "execution_count": 65,
      "outputs": []
    },
    {
      "cell_type": "code",
      "metadata": {
        "id": "qmY6g8096Tg4",
        "colab": {
          "base_uri": "https://localhost:8080/"
        },
        "outputId": "50eee696-e0ab-423f-834e-907e7c3f9d6b"
      },
      "source": [
        "grid.fit(X_train, y_train)"
      ],
      "execution_count": 66,
      "outputs": [
        {
          "output_type": "execute_result",
          "data": {
            "text/plain": [
              "GridSearchCV(cv=5, error_score=nan,\n",
              "             estimator=SVC(C=1.0, break_ties=False, cache_size=200,\n",
              "                           class_weight=None, coef0=0.0,\n",
              "                           decision_function_shape='ovr', degree=3,\n",
              "                           gamma='scale', kernel='rbf', max_iter=3000,\n",
              "                           probability=False, random_state=None, shrinking=True,\n",
              "                           tol=0.001, verbose=False),\n",
              "             iid='deprecated', n_jobs=None,\n",
              "             param_grid={'C': [0.001, 0.01, 0.1, 1, 10],\n",
              "                         'gamma': [0.001, 0.01, 0.1, 1, 10]},\n",
              "             pre_dispatch='2*n_jobs', refit=True, return_train_score=False,\n",
              "             scoring=None, verbose=0)"
            ]
          },
          "metadata": {
            "tags": []
          },
          "execution_count": 66
        }
      ]
    },
    {
      "cell_type": "code",
      "metadata": {
        "id": "h4OM5-7I6WPj",
        "colab": {
          "base_uri": "https://localhost:8080/"
        },
        "outputId": "121574c2-0ef6-4dd9-87c9-177c7340d611"
      },
      "source": [
        "print(grid.best_score_)\n",
        "print(grid.best_params_)"
      ],
      "execution_count": 67,
      "outputs": [
        {
          "output_type": "stream",
          "text": [
            "0.8752872909318465\n",
            "{'C': 10, 'gamma': 0.01}\n"
          ],
          "name": "stdout"
        }
      ]
    },
    {
      "cell_type": "code",
      "metadata": {
        "id": "EqlYP9Prv2Hd",
        "colab": {
          "base_uri": "https://localhost:8080/"
        },
        "outputId": "67e9f125-1cd5-44c9-e797-e9c21a29790d"
      },
      "source": [
        "print(X_test.shape)\n",
        "print(np.bincount(y_test))"
      ],
      "execution_count": 68,
      "outputs": [
        {
          "output_type": "stream",
          "text": [
            "(403, 2843)\n",
            "[200 203]\n"
          ],
          "name": "stdout"
        }
      ]
    },
    {
      "cell_type": "code",
      "metadata": {
        "id": "HiNGc5jh6i8-",
        "colab": {
          "base_uri": "https://localhost:8080/"
        },
        "outputId": "27e0c877-f51e-48fb-865c-ee954dec9913"
      },
      "source": [
        "# score on training data\n",
        "grid.score(X_train, y_train)"
      ],
      "execution_count": 69,
      "outputs": [
        {
          "output_type": "execute_result",
          "data": {
            "text/plain": [
              "0.988272921108742"
            ]
          },
          "metadata": {
            "tags": []
          },
          "execution_count": 69
        }
      ]
    },
    {
      "cell_type": "code",
      "metadata": {
        "id": "-khQeZUP6lRu",
        "colab": {
          "base_uri": "https://localhost:8080/"
        },
        "outputId": "f4c7eecd-6df1-4c01-ef39-d452568326a8"
      },
      "source": [
        "# score on test data\n",
        "grid.score(X_test, y_test)"
      ],
      "execution_count": 70,
      "outputs": [
        {
          "output_type": "execute_result",
          "data": {
            "text/plain": [
              "0.8436724565756824"
            ]
          },
          "metadata": {
            "tags": []
          },
          "execution_count": 70
        }
      ]
    },
    {
      "cell_type": "code",
      "metadata": {
        "id": "y5OkeuLn6oFn",
        "colab": {
          "base_uri": "https://localhost:8080/"
        },
        "outputId": "3441007a-b6fc-4253-a22d-7331fcf0027e"
      },
      "source": [
        "print(classification_report(grid.predict(X_test), y_test)) "
      ],
      "execution_count": 71,
      "outputs": [
        {
          "output_type": "stream",
          "text": [
            "              precision    recall  f1-score   support\n",
            "\n",
            "           0       0.80      0.88      0.83       181\n",
            "           1       0.89      0.82      0.85       222\n",
            "\n",
            "    accuracy                           0.84       403\n",
            "   macro avg       0.84      0.85      0.84       403\n",
            "weighted avg       0.85      0.84      0.84       403\n",
            "\n"
          ],
          "name": "stdout"
        }
      ]
    },
    {
      "cell_type": "markdown",
      "metadata": {
        "id": "-_3iJ8r8MSc-"
      },
      "source": [
        "Check metrics on control data"
      ]
    },
    {
      "cell_type": "code",
      "metadata": {
        "id": "HgDgo9KDMToz",
        "colab": {
          "base_uri": "https://localhost:8080/"
        },
        "outputId": "00654a5b-2cfd-4712-cc10-590e6432bc97"
      },
      "source": [
        "print(classification_report(grid.predict(X_control), y_control)) "
      ],
      "execution_count": 72,
      "outputs": [
        {
          "output_type": "stream",
          "text": [
            "              precision    recall  f1-score   support\n",
            "\n",
            "           0       0.97      0.81      0.89       128\n",
            "           1       0.93      0.99      0.96       313\n",
            "\n",
            "    accuracy                           0.94       441\n",
            "   macro avg       0.95      0.90      0.92       441\n",
            "weighted avg       0.94      0.94      0.94       441\n",
            "\n"
          ],
          "name": "stdout"
        }
      ]
    },
    {
      "cell_type": "markdown",
      "metadata": {
        "id": "XfcomNQU8lE9"
      },
      "source": [
        "Ядерний метод опорних векторів показав кращу результативність, ніж лінійний метод опорних векторів і лінійна регресія на контрольних даних і однакову результативність з методом опорних векторів та кращу за лінійну регресію на тестових"
      ]
    },
    {
      "cell_type": "markdown",
      "metadata": {
        "id": "xUmX5pxTzLs6"
      },
      "source": [
        "Отже, аналізуючи результативність моделей на тестових і конрольних даних,  ми бачимо, що ядерний метод опорних векторів (**SVC**) показав **найкращий результат**"
      ]
    },
    {
      "cell_type": "markdown",
      "metadata": {
        "id": "qeda1GMfMrFS"
      },
      "source": [
        "#BOW with min_df = 2"
      ]
    },
    {
      "cell_type": "markdown",
      "metadata": {
        "id": "2f48GTF_pdYb"
      },
      "source": [
        "При min_df = 2 слово повинне зустрітись в тексті мін 2 рази, щоб потрапити в \"мішок слів\""
      ]
    },
    {
      "cell_type": "code",
      "metadata": {
        "id": "6TLZg-d0ND8S",
        "colab": {
          "base_uri": "https://localhost:8080/"
        },
        "outputId": "35052aba-3ba4-4675-ca18-9196a5fd8608"
      },
      "source": [
        "vect = CountVectorizer(min_df=2).fit(text_train)\n",
        "X_train = vect.transform(text_train)\n",
        "\n",
        "print(repr(X_train))\n",
        "\n",
        "feature_names = vect.get_feature_names()\n",
        "\n",
        "print(\"Feature amount: {}\".format(len(feature_names)))\n",
        "print(\"20 features: \\n{}\".format(feature_names[:20]))\n",
        "print(\"features from 1000 to 1010:\\n{}\".format(feature_names[2000:2010]))\n",
        "print(\"each 100-th feature:\\n{}\".format(feature_names[::200]))\n",
        "\n",
        "param_grid = { 'C': [0.001, 0.01, 0.1, 1, 10]}\n",
        "grid = GridSearchCV(LogisticRegression(solver='lbfgs', max_iter=300), param_grid, cv=5)\n",
        "grid.fit(X_train, y_train)\n",
        "\n",
        "print(grid.best_score_)\n",
        "\n",
        "X_test = vect.transform(text_test)\n",
        "\n",
        "# score on training data\n",
        "print(grid.score(X_train, y_train))\n",
        "\n",
        "# score on test data\n",
        "print(grid.score(X_test, y_test))"
      ],
      "execution_count": 80,
      "outputs": [
        {
          "output_type": "stream",
          "text": [
            "<938x1305 sparse matrix of type '<class 'numpy.int64'>'\n",
            "\twith 14268 stored elements in Compressed Sparse Row format>\n",
            "Feature amount: 1305\n",
            "20 features: \n",
            "['10', '12', '14', '15', '20', '25', '30', '50', '60', '75', 'able', 'about', 'access', 'account', 'accountability', 'accounting', 'accounts', 'across', 'act', 'action']\n",
            "features from 1000 to 1010:\n",
            "[]\n",
            "each 100-th feature:\n",
            "['10', 'certain', 'especially', 'instead', 'old', 'said', 'true']\n",
            "0.8635680964842416\n",
            "0.9818763326226013\n",
            "0.8362282878411911\n"
          ],
          "name": "stdout"
        }
      ]
    },
    {
      "cell_type": "code",
      "metadata": {
        "id": "o7D5fdejrApu",
        "colab": {
          "base_uri": "https://localhost:8080/"
        },
        "outputId": "c3f6c8a5-5561-47c5-d570-9abb3ac0f7f1"
      },
      "source": [
        "print(classification_report(grid.predict(X_test), y_test))"
      ],
      "execution_count": 81,
      "outputs": [
        {
          "output_type": "stream",
          "text": [
            "              precision    recall  f1-score   support\n",
            "\n",
            "           0       0.79      0.87      0.83       182\n",
            "           1       0.88      0.81      0.84       221\n",
            "\n",
            "    accuracy                           0.84       403\n",
            "   macro avg       0.84      0.84      0.84       403\n",
            "weighted avg       0.84      0.84      0.84       403\n",
            "\n"
          ],
          "name": "stdout"
        }
      ]
    },
    {
      "cell_type": "markdown",
      "metadata": {
        "id": "n2Q9tdjAOeZs"
      },
      "source": [
        "#BOW with min_df = 3"
      ]
    },
    {
      "cell_type": "code",
      "metadata": {
        "id": "4iMqiMruOiyB",
        "colab": {
          "base_uri": "https://localhost:8080/"
        },
        "outputId": "d129fca3-d112-44d8-b814-823af04e375b"
      },
      "source": [
        "vect = CountVectorizer(min_df=3).fit(text_train)\n",
        "X_train = vect.transform(text_train)\n",
        "\n",
        "print(repr(X_train))\n",
        "\n",
        "feature_names = vect.get_feature_names()\n",
        "\n",
        "print(\"Feature amount: {}\".format(len(feature_names)))\n",
        "print(\"20 features: \\n{}\".format(feature_names[:20]))\n",
        "print(\"features from 1000 to 1010:\\n{}\".format(feature_names[2000:2010]))\n",
        "print(\"each 100-th feature:\\n{}\".format(feature_names[::200]))\n",
        "\n",
        "param_grid = { 'C': [0.001, 0.01, 0.1, 1, 10]}\n",
        "grid = GridSearchCV(LogisticRegression(solver='lbfgs', max_iter=300), param_grid, cv=5)\n",
        "grid.fit(X_train, y_train)\n",
        "\n",
        "print(grid.best_score_)\n",
        "\n",
        "X_test = vect.transform(text_test)\n",
        "\n",
        "# score on training data\n",
        "print(grid.score(X_train, y_train))\n",
        "\n",
        "# score on test data\n",
        "print(grid.score(X_test, y_test))"
      ],
      "execution_count": 82,
      "outputs": [
        {
          "output_type": "stream",
          "text": [
            "<938x838 sparse matrix of type '<class 'numpy.int64'>'\n",
            "\twith 13334 stored elements in Compressed Sparse Row format>\n",
            "Feature amount: 838\n",
            "20 features: \n",
            "['10', '12', '14', '15', '30', 'able', 'about', 'access', 'account', 'accounts', 'act', 'action', 'actions', 'activity', 'actual', 'actually', 'add', 'additional', 'address', 'addressed']\n",
            "features from 1000 to 1010:\n",
            "[]\n",
            "each 100-th feature:\n",
            "['10', 'difficulties', 'later', 'reduce', 'way']\n",
            "0.8646262373421323\n",
            "0.9744136460554371\n",
            "0.8387096774193549\n"
          ],
          "name": "stdout"
        }
      ]
    },
    {
      "cell_type": "code",
      "metadata": {
        "id": "l8mjzuADrFk_",
        "colab": {
          "base_uri": "https://localhost:8080/"
        },
        "outputId": "5bd1b64e-6f68-4e0e-b591-258fdb03baa9"
      },
      "source": [
        "print(classification_report(grid.predict(X_test), y_test))"
      ],
      "execution_count": 83,
      "outputs": [
        {
          "output_type": "stream",
          "text": [
            "              precision    recall  f1-score   support\n",
            "\n",
            "           0       0.78      0.88      0.83       177\n",
            "           1       0.90      0.81      0.85       226\n",
            "\n",
            "    accuracy                           0.84       403\n",
            "   macro avg       0.84      0.84      0.84       403\n",
            "weighted avg       0.85      0.84      0.84       403\n",
            "\n"
          ],
          "name": "stdout"
        }
      ]
    },
    {
      "cell_type": "markdown",
      "metadata": {
        "id": "YpGZKx7tD8VQ"
      },
      "source": [
        "#Conclusion regarding increasing min_df for CountVectorizer\n",
        "Найкращий результат модель показала при min_df=1"
      ]
    },
    {
      "cell_type": "markdown",
      "metadata": {
        "id": "Sbb6WpE1PEVp"
      },
      "source": [
        "#Stop-words"
      ]
    },
    {
      "cell_type": "code",
      "metadata": {
        "id": "jFUMovCQPIAp"
      },
      "source": [
        "from sklearn.feature_extraction.text import ENGLISH_STOP_WORDS"
      ],
      "execution_count": 84,
      "outputs": []
    },
    {
      "cell_type": "code",
      "metadata": {
        "id": "8B2uA0fyPM8A",
        "colab": {
          "base_uri": "https://localhost:8080/"
        },
        "outputId": "392286d3-38ba-44e0-8981-a2d2c5a0a7c3"
      },
      "source": [
        "print(len(ENGLISH_STOP_WORDS))\n",
        "print(list(ENGLISH_STOP_WORDS)[::10])\n",
        "print(list(ENGLISH_STOP_WORDS))"
      ],
      "execution_count": 85,
      "outputs": [
        {
          "output_type": "stream",
          "text": [
            "318\n",
            "['one', 'amongst', 'an', 'each', 'him', 'everywhere', 'fifteen', 'hasnt', 'as', 'few', 'ever', 'their', 'anywhere', 'within', 'towards', 'cry', 'former', 'due', 'cannot', 'it', 'because', 'top', 'those', 'under', 'less', 'beyond', 'except', 'everything', 'herself', 'also', 'couldnt', 'latter']\n",
            "['one', 'hers', 'even', 'must', 'them', 'where', 'un', 'while', 'not', 'same', 'amongst', 'everyone', 'how', 'somewhere', 'namely', 'whoever', 'almost', 'however', 'anything', 'across', 'an', 'herein', 'for', 'its', 'eight', 'once', 'first', 'mostly', 'still', 'thence', 'each', 'yourself', 'wherever', 'off', 'are', 'please', 'whereupon', 'thick', 'i', 'name', 'him', 'into', 'and', 'whose', 'twenty', 'therefore', 'hereupon', 'toward', 'both', 'con', 'everywhere', 'bill', 'has', 'about', 'afterwards', 'is', 'fifty', 'indeed', 'co', 'should', 'fifteen', 'thereby', 'hundred', 'becomes', 'were', 'keep', 'nevertheless', 'noone', 'else', 'part', 'hasnt', 'she', 'fire', 'these', 'he', 'since', 'hence', 'sincere', 'on', 'himself', 'as', 'upon', 'done', 'can', 'seeming', 'myself', 'elsewhere', 'yourselves', 'have', 'above', 'few', 'at', 'already', 'empty', 'someone', 'whereafter', 'eleven', 'too', 'through', 'up', 'ever', 'mine', 'what', 'itself', 'forty', 'around', 'but', 'who', 'here', 'beside', 'their', 'though', 'before', 'me', 'nowhere', 'thereafter', 'moreover', 'cant', 'eg', 'third', 'anywhere', 'whether', 'yet', 'would', 'further', 'see', 'had', 'to', 'take', 'anyone', 'within', 'only', 'now', 'inc', 'own', 'without', 'whatever', 'whenever', 'either', 'five', 'towards', 'give', 'via', 'my', 'her', 'with', 'system', 'front', 'besides', 'ie', 'cry', 'down', 'or', 'nor', 'again', 'most', 're', 'etc', 'anyhow', 'along', 'former', 'in', 'formerly', 'during', 'may', 'move', 'never', 'which', 'among', 'themselves', 'due', 'why', 'four', 'others', 'your', 'yours', 'am', 'go', 'whom', 'whereby', 'cannot', 'much', 'all', 'ours', 'three', 'interest', 'might', 'sometime', 'until', 'somehow', 'it', 'below', 'ourselves', 'a', 'been', 'whole', 'found', 'latterly', 'other', 'get', 'because', 'hereafter', 'made', 'beforehand', 'de', 'side', 'detail', 'seem', 'full', 'you', 'top', 'we', 'being', 'anyway', 'sometimes', 'then', 'least', 'wherein', 'do', 'more', 'those', 'that', 'many', 'neither', 'thin', 'something', 'against', 'between', 'very', 'call', 'under', 'enough', 'could', 'bottom', 'hereby', 'therein', 'alone', 'will', 'seemed', 'sixty', 'less', 'the', 'whither', 'such', 'when', 'no', 'they', 'ltd', 'becoming', 'describe', 'beyond', 'thru', 'well', 'show', 'next', 'out', 'find', 'twelve', 'last', 'several', 'except', 'rather', 'together', 'amoungst', 'although', 'ten', 'nobody', 'behind', 'became', 'become', 'everything', 'if', 'nothing', 'there', 'seems', 'two', 'his', 'nine', 'us', 'over', 'herself', 'onto', 'of', 'this', 'by', 'our', 'perhaps', 'per', 'whence', 'fill', 'also', 'whereas', 'mill', 'every', 'often', 'put', 'after', 'serious', 'so', 'some', 'couldnt', 'another', 'any', 'throughout', 'six', 'be', 'none', 'thereupon', 'always', 'was', 'latter', 'from', 'amount', 'thus', 'than', 'back', 'meanwhile', 'otherwise']\n"
          ],
          "name": "stdout"
        }
      ]
    },
    {
      "cell_type": "code",
      "metadata": {
        "id": "kuKqbF3UjOcE"
      },
      "source": [
        "import nltk\n",
        "from nltk.corpus import stopwords"
      ],
      "execution_count": 86,
      "outputs": []
    },
    {
      "cell_type": "markdown",
      "metadata": {
        "id": "f9_Kyo_7nq--"
      },
      "source": [
        "Change stop word list for our needs"
      ]
    },
    {
      "cell_type": "code",
      "metadata": {
        "id": "ght9oDkVkTwd",
        "colab": {
          "base_uri": "https://localhost:8080/"
        },
        "outputId": "56153e03-b04c-4938-e9ba-d33d935cf249"
      },
      "source": [
        "nltk.download(\"stopwords\")\n",
        "chachedWords = stopwords.words('english')\n",
        "to_remove = ['do', 'does', 'did', 'doing', 'no', 'nor', 'not', \"aren't\", 'can', 'couldn', \"couldn't\", 'didn', \"didn't\", 'doesn', \"doesn't\", 'hadn', \"hadn't\", 'hasn', \"hasn't\", 'haven', \"haven't\", 'isn', \"isn't\"]\n",
        "for word in to_remove:\n",
        "  chachedWords.remove(word)"
      ],
      "execution_count": 87,
      "outputs": [
        {
          "output_type": "stream",
          "text": [
            "[nltk_data] Downloading package stopwords to /root/nltk_data...\n",
            "[nltk_data]   Package stopwords is already up-to-date!\n"
          ],
          "name": "stdout"
        }
      ]
    },
    {
      "cell_type": "code",
      "metadata": {
        "id": "TqmQp2DMknIx",
        "colab": {
          "base_uri": "https://localhost:8080/"
        },
        "outputId": "33d13ea9-ef42-4bf7-96ec-99d574cdabcc"
      },
      "source": [
        "print(chachedWords)\n",
        "print(len(chachedWords))"
      ],
      "execution_count": 88,
      "outputs": [
        {
          "output_type": "stream",
          "text": [
            "['i', 'me', 'my', 'myself', 'we', 'our', 'ours', 'ourselves', 'you', \"you're\", \"you've\", \"you'll\", \"you'd\", 'your', 'yours', 'yourself', 'yourselves', 'he', 'him', 'his', 'himself', 'she', \"she's\", 'her', 'hers', 'herself', 'it', \"it's\", 'its', 'itself', 'they', 'them', 'their', 'theirs', 'themselves', 'what', 'which', 'who', 'whom', 'this', 'that', \"that'll\", 'these', 'those', 'am', 'is', 'are', 'was', 'were', 'be', 'been', 'being', 'have', 'has', 'had', 'having', 'a', 'an', 'the', 'and', 'but', 'if', 'or', 'because', 'as', 'until', 'while', 'of', 'at', 'by', 'for', 'with', 'about', 'against', 'between', 'into', 'through', 'during', 'before', 'after', 'above', 'below', 'to', 'from', 'up', 'down', 'in', 'out', 'on', 'off', 'over', 'under', 'again', 'further', 'then', 'once', 'here', 'there', 'when', 'where', 'why', 'how', 'all', 'any', 'both', 'each', 'few', 'more', 'most', 'other', 'some', 'such', 'only', 'own', 'same', 'so', 'than', 'too', 'very', 's', 't', 'will', 'just', 'don', \"don't\", 'should', \"should've\", 'now', 'd', 'll', 'm', 'o', 're', 've', 'y', 'ain', 'aren', 'ma', 'mightn', \"mightn't\", 'mustn', \"mustn't\", 'needn', \"needn't\", 'shan', \"shan't\", 'shouldn', \"shouldn't\", 'wasn', \"wasn't\", 'weren', \"weren't\", 'won', \"won't\", 'wouldn', \"wouldn't\"]\n",
            "156\n"
          ],
          "name": "stdout"
        }
      ]
    },
    {
      "cell_type": "code",
      "metadata": {
        "id": "ioEzjLuBPc4g"
      },
      "source": [
        "vect = CountVectorizer(min_df = 1, stop_words=\"english\").fit(text_train)\n",
        "X_train = vect.transform(text_train)"
      ],
      "execution_count": 89,
      "outputs": []
    },
    {
      "cell_type": "code",
      "metadata": {
        "id": "MvNiR1Q-juTa"
      },
      "source": [
        "vect = CountVectorizer(min_df = 1, stop_words=chachedWords).fit(text_train)\n",
        "X_train = vect.transform(text_train)"
      ],
      "execution_count": 90,
      "outputs": []
    },
    {
      "cell_type": "code",
      "metadata": {
        "id": "flHWylY9P0bv",
        "colab": {
          "base_uri": "https://localhost:8080/"
        },
        "outputId": "ec7aa24b-76d0-4b47-b458-dd5dd640abab"
      },
      "source": [
        "print(repr(X_train))"
      ],
      "execution_count": 91,
      "outputs": [
        {
          "output_type": "stream",
          "text": [
            "<938x2729 sparse matrix of type '<class 'numpy.int64'>'\n",
            "\twith 8649 stored elements in Compressed Sparse Row format>\n"
          ],
          "name": "stdout"
        }
      ]
    },
    {
      "cell_type": "code",
      "metadata": {
        "id": "O0JVyPTFP45R",
        "colab": {
          "base_uri": "https://localhost:8080/"
        },
        "outputId": "b2548d67-8f55-46f2-d107-dfd25a6de781"
      },
      "source": [
        "param_grid = { 'C': [0.001, 0.01, 0.1, 1, 10]}\n",
        "grid = GridSearchCV(LogisticRegression(solver='lbfgs', max_iter=300), param_grid, cv=5)\n",
        "grid.fit(X_train, y_train)\n",
        "\n",
        "print(grid.best_score_)"
      ],
      "execution_count": 92,
      "outputs": [
        {
          "output_type": "stream",
          "text": [
            "0.8582205029013539\n"
          ],
          "name": "stdout"
        }
      ]
    },
    {
      "cell_type": "code",
      "metadata": {
        "id": "g7EHCHOeQwCI",
        "colab": {
          "base_uri": "https://localhost:8080/"
        },
        "outputId": "16ae2603-0d03-42f7-a5c1-141cc09c3fae"
      },
      "source": [
        "X_test = vect.transform(text_test)\n",
        "\n",
        "# score on training data\n",
        "print(grid.score(X_train, y_train))\n",
        "\n",
        "# score on test data\n",
        "print(grid.score(X_test, y_test))"
      ],
      "execution_count": 93,
      "outputs": [
        {
          "output_type": "stream",
          "text": [
            "0.9818763326226013\n",
            "0.8535980148883374\n"
          ],
          "name": "stdout"
        }
      ]
    },
    {
      "cell_type": "code",
      "metadata": {
        "id": "J_RzsKuw4pw-",
        "colab": {
          "base_uri": "https://localhost:8080/"
        },
        "outputId": "4879fcb1-0e91-45fe-accc-b16acff3c9fc"
      },
      "source": [
        "print(classification_report(grid.predict(X_test), y_test))"
      ],
      "execution_count": 94,
      "outputs": [
        {
          "output_type": "stream",
          "text": [
            "              precision    recall  f1-score   support\n",
            "\n",
            "           0       0.80      0.90      0.84       177\n",
            "           1       0.91      0.82      0.86       226\n",
            "\n",
            "    accuracy                           0.85       403\n",
            "   macro avg       0.85      0.86      0.85       403\n",
            "weighted avg       0.86      0.85      0.85       403\n",
            "\n"
          ],
          "name": "stdout"
        }
      ]
    },
    {
      "cell_type": "markdown",
      "metadata": {
        "id": "Nt9kwgWlEu3E"
      },
      "source": [
        "#Conclusion regarding using stop-words for CountVectorizer\n",
        "Видалення стоп-слів зменшило результативність моделі."
      ]
    },
    {
      "cell_type": "markdown",
      "metadata": {
        "id": "2RxlS-xoRjTb"
      },
      "source": [
        "#Scaling data with tf-idf"
      ]
    },
    {
      "cell_type": "markdown",
      "metadata": {
        "id": "fU9IFhIQawu5"
      },
      "source": [
        "Ми присвоюємо велику вагу слову, яке часто зустрічається в конкретному реченні, але при цьому рідко зустрічається в інших. Якщо слово часто зустрічається в конкретному реченні і рідко в інших, воно скоріш за все буде описувати вміст цього речення краще."
      ]
    },
    {
      "cell_type": "code",
      "metadata": {
        "id": "j1HSH9NURtrt"
      },
      "source": [
        "from sklearn.feature_extraction.text import TfidfVectorizer\n",
        "from sklearn.pipeline import make_pipeline"
      ],
      "execution_count": 95,
      "outputs": []
    },
    {
      "cell_type": "code",
      "metadata": {
        "id": "H9W77dWISY0E"
      },
      "source": [
        "pipe = make_pipeline(TfidfVectorizer(min_df=1, norm=None), LogisticRegression(solver='lbfgs', max_iter=300))"
      ],
      "execution_count": 96,
      "outputs": []
    },
    {
      "cell_type": "code",
      "metadata": {
        "id": "Qx4TMR8ASvpd"
      },
      "source": [
        "param_grid = { 'logisticregression__C': [0.001, 0.01, 0.1, 1, 10]}\n",
        "grid = GridSearchCV(pipe, param_grid, cv=5)"
      ],
      "execution_count": 97,
      "outputs": []
    },
    {
      "cell_type": "code",
      "metadata": {
        "id": "P8Q7WLamS47f",
        "colab": {
          "base_uri": "https://localhost:8080/"
        },
        "outputId": "52e7be99-738e-4252-d415-5a52cbd90967"
      },
      "source": [
        "grid.fit(text_train, y_train)\n",
        "\n",
        "print(grid.best_score_)"
      ],
      "execution_count": 98,
      "outputs": [
        {
          "output_type": "stream",
          "text": [
            "0.8507736943907156\n"
          ],
          "name": "stdout"
        }
      ]
    },
    {
      "cell_type": "code",
      "metadata": {
        "id": "6l6JMPNZUTGd"
      },
      "source": [
        "vectorizer = grid.best_estimator_.named_steps[\"tfidfvectorizer\"]\n",
        "X_train = vectorizer.transform(text_train)"
      ],
      "execution_count": 99,
      "outputs": []
    },
    {
      "cell_type": "code",
      "metadata": {
        "id": "C3CaGj0JUdkh"
      },
      "source": [
        "max_value = X_train.max(axis=0).toarray().ravel()\n",
        "sorted_by_tfidf = max_value.argsort()"
      ],
      "execution_count": 100,
      "outputs": []
    },
    {
      "cell_type": "code",
      "metadata": {
        "id": "3Y_A5LF4UrbA"
      },
      "source": [
        "feature_names = np.array(vectorizer.get_feature_names())"
      ],
      "execution_count": 101,
      "outputs": []
    },
    {
      "cell_type": "code",
      "metadata": {
        "id": "kb80nrA-Uvzh",
        "colab": {
          "base_uri": "https://localhost:8080/"
        },
        "outputId": "e4ff38c9-c475-48d1-d36f-28c288c51266"
      },
      "source": [
        "# features with min tfidf values\n",
        "print(feature_names[sorted_by_tfidf[:20]])"
      ],
      "execution_count": 102,
      "outputs": [
        {
          "output_type": "stream",
          "text": [
            "['one' 'very' 'really' 'those' 'mr' 'meeting' 'only' 'when' 'my' 'things'\n",
            " 'something' 'me' 'question' 'come' 'real' 'first' 'maybe' 'same' 'way'\n",
            " 'work']\n"
          ],
          "name": "stdout"
        }
      ]
    },
    {
      "cell_type": "code",
      "metadata": {
        "id": "kb8d5DxKVG__",
        "colab": {
          "base_uri": "https://localhost:8080/"
        },
        "outputId": "2ed31df5-6218-422d-b032-fe58485a95ee"
      },
      "source": [
        "# features with max tfidf values\n",
        "print(feature_names[sorted_by_tfidf[-20:]])"
      ],
      "execution_count": 103,
      "outputs": [
        {
          "output_type": "stream",
          "text": [
            "['agency' 'which' 'such' 'they' 'concern' 'the' 'like' 'saying' 'quarter'\n",
            " 'budget' 'financing' 'period' 'best' 'billion' 'deficit' 'management'\n",
            " 'during' 'senior' 'federal' 'senator']\n"
          ],
          "name": "stdout"
        }
      ]
    },
    {
      "cell_type": "code",
      "metadata": {
        "id": "j0-A--8rVSAI",
        "colab": {
          "base_uri": "https://localhost:8080/"
        },
        "outputId": "50f80ad0-90eb-4116-8585-df51fe42a5c5"
      },
      "source": [
        "sorted_by_idf = np.argsort(vectorizer.idf_)\n",
        "\n",
        "# features with min idf values\n",
        "print(feature_names[sorted_by_idf[:20]])\n",
        "\n",
        "# features with max idf values\n",
        "print(feature_names[sorted_by_idf[-20:]])"
      ],
      "execution_count": 104,
      "outputs": [
        {
          "output_type": "stream",
          "text": [
            "['the' 'that' 'to' 'of' 'is' 'and' 'in' 'we' 'it' 'problem' 'with' 'have'\n",
            " 'issue' 'this' 'are' 'be' 'on' 'for' 'as' 'but']\n",
            "['improvement' 'improved' 'improve' 'latency' 'imprecision' 'implied'\n",
            " 'implication' 'implementation' 'impeding' 'impacts' 'immediate'\n",
            " 'illiquidity' 'ii' 'idioms' 'idiom' 'identification' 'ibm' 'hypothesis'\n",
            " 'importantly' 'zoom']\n"
          ],
          "name": "stdout"
        }
      ]
    },
    {
      "cell_type": "code",
      "metadata": {
        "id": "1_9iFh-aT9iw",
        "colab": {
          "base_uri": "https://localhost:8080/"
        },
        "outputId": "dd377bb0-3eb0-4035-d9bb-53e1c327d4fc"
      },
      "source": [
        "print(grid.score(text_train, y_train))\n",
        "print(grid.score(text_test, y_test))"
      ],
      "execution_count": 105,
      "outputs": [
        {
          "output_type": "stream",
          "text": [
            "0.9989339019189766\n",
            "0.826302729528536\n"
          ],
          "name": "stdout"
        }
      ]
    },
    {
      "cell_type": "code",
      "metadata": {
        "id": "lADd1tCHfPcY",
        "colab": {
          "base_uri": "https://localhost:8080/"
        },
        "outputId": "c9ee191e-3382-4bca-e759-fe06eea56c79"
      },
      "source": [
        "print(classification_report(grid.predict(text_test), y_test))"
      ],
      "execution_count": 106,
      "outputs": [
        {
          "output_type": "stream",
          "text": [
            "              precision    recall  f1-score   support\n",
            "\n",
            "           0       0.79      0.85      0.82       184\n",
            "           1       0.87      0.80      0.83       219\n",
            "\n",
            "    accuracy                           0.83       403\n",
            "   macro avg       0.83      0.83      0.83       403\n",
            "weighted avg       0.83      0.83      0.83       403\n",
            "\n"
          ],
          "name": "stdout"
        }
      ]
    },
    {
      "cell_type": "markdown",
      "metadata": {
        "id": "PNp1uXyuXpfA"
      },
      "source": [
        "#Conclusion regarding tf-idf\n",
        "Застосування методу tf-idf зменшило результативність моделі. Це відбулось скоріш за все через те, що метод tf-idf відніс інформативні в нашому випадку слова, наприклад, 'issue, 'problem' до менш важливих, оскільки ці слова часто зустрічаються в багатьох реченнях."
      ]
    },
    {
      "cell_type": "markdown",
      "metadata": {
        "id": "YgLgBmr9NVbf"
      },
      "source": [
        "#tf-idf with 2-grams"
      ]
    },
    {
      "cell_type": "code",
      "metadata": {
        "id": "C7m38VYFNefQ"
      },
      "source": [
        "pipe = make_pipeline(TfidfVectorizer(min_df=1, norm=None), LogisticRegression(solver='lbfgs', max_iter=300))"
      ],
      "execution_count": 107,
      "outputs": []
    },
    {
      "cell_type": "code",
      "metadata": {
        "id": "41H81BxXNefR"
      },
      "source": [
        "param_grid = {'logisticregression__C': [0.001, 0.01, 0.1, 1, 10],\n",
        "              'tfidfvectorizer__ngram_range': [(2,2)]}\n",
        "grid = GridSearchCV(pipe, param_grid, cv=5)"
      ],
      "execution_count": 108,
      "outputs": []
    },
    {
      "cell_type": "code",
      "metadata": {
        "id": "lGgOip9aNefS",
        "colab": {
          "base_uri": "https://localhost:8080/"
        },
        "outputId": "7814213f-9a82-43da-e1a0-1aa6eba30be1"
      },
      "source": [
        "grid.fit(text_train, y_train)\n",
        "\n",
        "print(grid.best_score_)"
      ],
      "execution_count": 109,
      "outputs": [
        {
          "output_type": "stream",
          "text": [
            "0.7591307315963136\n"
          ],
          "name": "stdout"
        }
      ]
    },
    {
      "cell_type": "code",
      "metadata": {
        "id": "xXrWjXHENefV"
      },
      "source": [
        "vectorizer = grid.best_estimator_.named_steps[\"tfidfvectorizer\"]\n",
        "X_train = vectorizer.transform(text_train)"
      ],
      "execution_count": 110,
      "outputs": []
    },
    {
      "cell_type": "code",
      "metadata": {
        "id": "B8wkgEWlNefW"
      },
      "source": [
        "max_value = X_train.max(axis=0).toarray().ravel()\n",
        "sorted_by_tfidf = max_value.argsort()"
      ],
      "execution_count": 111,
      "outputs": []
    },
    {
      "cell_type": "code",
      "metadata": {
        "id": "8Gao3NxhNefX"
      },
      "source": [
        "feature_names = np.array(vectorizer.get_feature_names())"
      ],
      "execution_count": 112,
      "outputs": []
    },
    {
      "cell_type": "code",
      "metadata": {
        "id": "AlPG5SZ8NefX",
        "colab": {
          "base_uri": "https://localhost:8080/"
        },
        "outputId": "b277217e-874c-4f9c-be74-816712813f3a"
      },
      "source": [
        "# features with min tfidf values\n",
        "print(feature_names[sorted_by_tfidf[:20]])"
      ],
      "execution_count": 113,
      "outputs": [
        {
          "output_type": "stream",
          "text": [
            "['the problem' 'the issue' 'problem is' 'there are' 'issue is' 'at the'\n",
            " 'there is' 'this is' 'issue of' 'we are' 'the treasury' 'and that'\n",
            " 'we don' 'one of' 'for the' 'will be' 'that it' 'the same' 'would be'\n",
            " 'problem that']\n"
          ],
          "name": "stdout"
        }
      ]
    },
    {
      "cell_type": "code",
      "metadata": {
        "id": "wAxy7YiaNefZ",
        "colab": {
          "base_uri": "https://localhost:8080/"
        },
        "outputId": "b2784019-6f7c-4d7c-886f-5c63134ceb5c"
      },
      "source": [
        "# features with max tfidf values\n",
        "print(feature_names[sorted_by_tfidf[-20:]])"
      ],
      "execution_count": 114,
      "outputs": [
        {
          "output_type": "stream",
          "text": [
            "['is whither' 'for period' 'rps to' 'bank budget' 'percent floor'\n",
            " 'the reserve' 'them are' 'access to' 'second quarter' 'want to'\n",
            " 'they are' 'would have' 'and what' 'and so' 'they want' 'the federal'\n",
            " 'financing bank' 'federal financing' 'the senator' 'no problem']\n"
          ],
          "name": "stdout"
        }
      ]
    },
    {
      "cell_type": "code",
      "metadata": {
        "id": "HKHJN8dCNefa",
        "colab": {
          "base_uri": "https://localhost:8080/"
        },
        "outputId": "5b5fb38e-8cdd-4c71-8525-7489c408f5aa"
      },
      "source": [
        "sorted_by_idf = np.argsort(vectorizer.idf_)\n",
        "\n",
        "# features with min idf values\n",
        "print(feature_names[sorted_by_idf[:20]])\n",
        "\n",
        "# features with max idf values\n",
        "print(feature_names[sorted_by_idf[-20:]])"
      ],
      "execution_count": 115,
      "outputs": [
        {
          "output_type": "stream",
          "text": [
            "['of the' 'in the' 'is that' 'the problem' 'we have' 'with the' 'that we'\n",
            " 'to the' 'the issue' 'don know' 'that the' 'and the' 'to be' 'problem is'\n",
            " 'on the' 'is the' 'there are' 'going to' 'issue is' 'at the']\n",
            "['in asking' 'in alternative' 'impression of' 'impression that'\n",
            " 'improve the' 'improved economic' 'improvement is' 'improvements but'\n",
            " 'improving communication' 'imprecision of' 'improving monetary'\n",
            " 'in about' 'in addition' 'in addressing' 'in advance' 'in after'\n",
            " 'in agriculture' 'in all' 'in 77' 'zoom meeting']\n"
          ],
          "name": "stdout"
        }
      ]
    },
    {
      "cell_type": "code",
      "metadata": {
        "id": "guSYVFCINefb",
        "colab": {
          "base_uri": "https://localhost:8080/"
        },
        "outputId": "3185a9f4-e934-475d-e255-3be30bb69bbc"
      },
      "source": [
        "print(grid.score(text_train, y_train))\n",
        "print(grid.score(text_test, y_test))"
      ],
      "execution_count": 116,
      "outputs": [
        {
          "output_type": "stream",
          "text": [
            "0.9989339019189766\n",
            "0.7766749379652605\n"
          ],
          "name": "stdout"
        }
      ]
    },
    {
      "cell_type": "code",
      "metadata": {
        "id": "_xl0URNxNefc",
        "colab": {
          "base_uri": "https://localhost:8080/"
        },
        "outputId": "0a0c756a-6cd4-4379-91b8-54c52666c897"
      },
      "source": [
        "print(classification_report(grid.predict(text_test), y_test))"
      ],
      "execution_count": 117,
      "outputs": [
        {
          "output_type": "stream",
          "text": [
            "              precision    recall  f1-score   support\n",
            "\n",
            "           0       0.88      0.73      0.80       242\n",
            "           1       0.67      0.85      0.75       161\n",
            "\n",
            "    accuracy                           0.78       403\n",
            "   macro avg       0.78      0.79      0.77       403\n",
            "weighted avg       0.80      0.78      0.78       403\n",
            "\n"
          ],
          "name": "stdout"
        }
      ]
    },
    {
      "cell_type": "markdown",
      "metadata": {
        "id": "mTBu9xAAW6wF"
      },
      "source": [
        "#tfidf scaling with stop-words"
      ]
    },
    {
      "cell_type": "code",
      "metadata": {
        "id": "8UTxuPdyXAzd",
        "colab": {
          "base_uri": "https://localhost:8080/"
        },
        "outputId": "f32318bd-23a2-4a61-86c9-bdd335fe4095"
      },
      "source": [
        "pipe = make_pipeline(TfidfVectorizer(min_df=1, stop_words=\"english\", norm=None), LogisticRegression(solver='lbfgs', max_iter=300))\n",
        "\n",
        "param_grid = { 'logisticregression__C': [0.001, 0.01, 0.1, 1, 10]}\n",
        "grid = GridSearchCV(pipe, param_grid, cv=5)\n",
        "                    \n",
        "grid.fit(text_train, y_train)\n",
        "\n",
        "print(grid.best_score_)\n",
        "\n",
        "print(grid.score(text_train, y_train))\n",
        "print(grid.score(text_test, y_test))"
      ],
      "execution_count": 118,
      "outputs": [
        {
          "output_type": "stream",
          "text": [
            "0.8443736488792808\n",
            "0.9797441364605544\n",
            "0.8486352357320099\n"
          ],
          "name": "stdout"
        }
      ]
    },
    {
      "cell_type": "markdown",
      "metadata": {
        "id": "k0ex96EQXmA-"
      },
      "source": [
        "#tfidf scaling with min_df=3"
      ]
    },
    {
      "cell_type": "code",
      "metadata": {
        "id": "nX9XlcQcXrpU",
        "colab": {
          "base_uri": "https://localhost:8080/"
        },
        "outputId": "d291d890-f95b-4308-ff8b-eed936fdba94"
      },
      "source": [
        "pipe = make_pipeline(TfidfVectorizer(min_df=3, norm=None), LogisticRegression(solver='lbfgs', max_iter=300))\n",
        "\n",
        "param_grid = { 'logisticregression__C': [0.001, 0.01, 0.1, 1, 10]}\n",
        "grid = GridSearchCV(pipe, param_grid, cv=5)\n",
        "                    \n",
        "grid.fit(text_train, y_train)\n",
        "\n",
        "print(grid.best_score_)\n",
        "\n",
        "print(grid.score(text_train, y_train))\n",
        "print(grid.score(text_test, y_test))"
      ],
      "execution_count": 119,
      "outputs": [
        {
          "output_type": "stream",
          "text": [
            "0.8528899761064969\n",
            "0.9530916844349681\n",
            "0.8337468982630273\n"
          ],
          "name": "stdout"
        }
      ]
    },
    {
      "cell_type": "markdown",
      "metadata": {
        "id": "xXZX9kuPaMN-"
      },
      "source": [
        "#BOW for sequences of words(n-gramms)"
      ]
    },
    {
      "cell_type": "code",
      "metadata": {
        "id": "fb9kk45PaTpB",
        "colab": {
          "base_uri": "https://localhost:8080/"
        },
        "outputId": "9bb0509b-0290-47fc-e930-c7733f48fe92"
      },
      "source": [
        "pipe = make_pipeline(TfidfVectorizer(min_df=1), LogisticRegression(solver='lbfgs', max_iter=300))\n",
        "\n",
        "param_grid = { 'logisticregression__C': [0.001, 0.01, 0.1, 1, 10],\n",
        "               'tfidfvectorizer__ngram_range': [(1,1), (1,2), (1,3), (1,4), (1,5)]}\n",
        "grid = GridSearchCV(pipe, param_grid, cv=5)\n",
        "grid.fit(text_train, y_train)\n",
        "\n",
        "print(grid.best_score_)\n",
        "print(grid.best_params_)\n",
        "\n",
        "print(grid.score(text_train, y_train))\n",
        "print(grid.score(text_test, y_test))\n",
        "                    "
      ],
      "execution_count": 120,
      "outputs": [
        {
          "output_type": "stream",
          "text": [
            "0.8496814199567643\n",
            "{'logisticregression__C': 10, 'tfidfvectorizer__ngram_range': (1, 1)}\n",
            "0.9957356076759062\n",
            "0.8089330024813896\n"
          ],
          "name": "stdout"
        }
      ]
    },
    {
      "cell_type": "markdown",
      "metadata": {
        "id": "rID62iSFjb_L"
      },
      "source": [
        "#TfidfVectorizer/CountVectorizer comparison with different C, ngram_range, min_df, stop_words params"
      ]
    },
    {
      "cell_type": "code",
      "metadata": {
        "id": "NVa5OfQWe4eD",
        "colab": {
          "base_uri": "https://localhost:8080/"
        },
        "outputId": "79f12017-cb10-4018-daf3-7eca414bfcd0"
      },
      "source": [
        "pipe = make_pipeline(TfidfVectorizer(), LogisticRegression(solver='lbfgs', max_iter=300))\n",
        "\n",
        "param_grid = { 'logisticregression__C': [0.001, 0.01, 0.1, 1, 10],\n",
        "               'tfidfvectorizer__ngram_range': [(1,1), (1,2), (1,3), (1,4), (1,5)],\n",
        "               'tfidfvectorizer__min_df': [1, 2, 3],\n",
        "               'tfidfvectorizer__stop_words': ['english', None]}\n",
        "grid = GridSearchCV(pipe, param_grid, cv=5)\n",
        "grid.fit(text_train, y_train)\n",
        "\n",
        "print(grid.best_score_)\n",
        "print(grid.best_params_)\n",
        "\n",
        "print(grid.score(text_train, y_train))\n",
        "print(grid.score(text_test, y_test))"
      ],
      "execution_count": 121,
      "outputs": [
        {
          "output_type": "stream",
          "text": [
            "0.8528842871771533\n",
            "{'logisticregression__C': 10, 'tfidfvectorizer__min_df': 1, 'tfidfvectorizer__ngram_range': (1, 3), 'tfidfvectorizer__stop_words': 'english'}\n",
            "0.9989339019189766\n",
            "0.8337468982630273\n"
          ],
          "name": "stdout"
        }
      ]
    },
    {
      "cell_type": "code",
      "metadata": {
        "colab": {
          "base_uri": "https://localhost:8080/"
        },
        "id": "3zjBF8KAlpu3",
        "outputId": "5c189410-503b-4f4f-f81a-560442d111f3"
      },
      "source": [
        "pipe = make_pipeline(CountVectorizer(), LogisticRegression(solver='lbfgs', max_iter=300))\n",
        "\n",
        "param_grid = { 'logisticregression__C': [0.001, 0.01, 0.1, 1, 10],\n",
        "               'countvectorizer__ngram_range': [(1,1), (1,2), (1,3), (1,4), (1,5)],\n",
        "               'countvectorizer__min_df': [1, 2, 3],\n",
        "               'countvectorizer__stop_words': ['english', None]}\n",
        "grid = GridSearchCV(pipe, param_grid, cv=5)\n",
        "grid.fit(text_train, y_train)\n",
        "\n",
        "print(grid.best_score_)\n",
        "print(grid.best_params_)\n",
        "\n",
        "print(grid.score(text_train, y_train))\n",
        "print(grid.score(text_test, y_test))"
      ],
      "execution_count": 122,
      "outputs": [
        {
          "output_type": "stream",
          "text": [
            "0.8635851632722721\n",
            "{'countvectorizer__min_df': 2, 'countvectorizer__ngram_range': (1, 4), 'countvectorizer__stop_words': None, 'logisticregression__C': 10}\n",
            "0.9989339019189766\n",
            "0.8337468982630273\n"
          ],
          "name": "stdout"
        }
      ]
    },
    {
      "cell_type": "code",
      "metadata": {
        "colab": {
          "base_uri": "https://localhost:8080/"
        },
        "id": "jCD_NQLvo_5h",
        "outputId": "8dcc0eda-cd06-419a-8441-b5689c109525"
      },
      "source": [
        "print(classification_report(grid.predict(text_test), y_test))"
      ],
      "execution_count": 123,
      "outputs": [
        {
          "output_type": "stream",
          "text": [
            "              precision    recall  f1-score   support\n",
            "\n",
            "           0       0.81      0.85      0.83       191\n",
            "           1       0.86      0.82      0.84       212\n",
            "\n",
            "    accuracy                           0.83       403\n",
            "   macro avg       0.83      0.83      0.83       403\n",
            "weighted avg       0.83      0.83      0.83       403\n",
            "\n"
          ],
          "name": "stdout"
        }
      ]
    },
    {
      "cell_type": "markdown",
      "metadata": {
        "id": "cNOeGrOmqviw"
      },
      "source": [
        "Використання моделі класу CountVectorizer з параметрами  'countvectorizer__min_df': 1, 'countvectorizer__ngram_range': (1, 2), 'countvectorizer__stop_words': 'english', 'logisticregression__C': 1, ми досягли такої ж точності моделі, як при звичайному CountVectorizer з єдиним параметром 'countvectorizer__min_df': 1 і 'logisticregression__C': 1. Тобто в нашому випадку застосовування n-grams і видалення стоп-слів не підвищують точність моделі, тому їхнє використання не є доцільним\n"
      ]
    },
    {
      "cell_type": "markdown",
      "metadata": {
        "id": "giJFJTS3mxaI"
      },
      "source": [
        "#Lemmatization"
      ]
    },
    {
      "cell_type": "code",
      "metadata": {
        "id": "3ictH_qYnZeR"
      },
      "source": [
        "import spacy"
      ],
      "execution_count": 124,
      "outputs": []
    },
    {
      "cell_type": "code",
      "metadata": {
        "id": "NtJDb6lsn2sO"
      },
      "source": [
        "en_nlp = spacy.load('en')"
      ],
      "execution_count": 125,
      "outputs": []
    },
    {
      "cell_type": "code",
      "metadata": {
        "id": "wzNFxwQhm2ue"
      },
      "source": [
        "def custom_tokenizer(document):\n",
        "  doc_spacy = en_nlp(document)\n",
        "  return [token.lemma_ for token in doc_spacy]"
      ],
      "execution_count": 126,
      "outputs": []
    },
    {
      "cell_type": "code",
      "metadata": {
        "colab": {
          "base_uri": "https://localhost:8080/"
        },
        "id": "zc5wxfe5rOEz",
        "outputId": "61bdb2d5-8f00-4233-94a3-b929d261ca6f"
      },
      "source": [
        "# define a count vectorizer with the custom tokenizer\n",
        "lemma_vect = CountVectorizer(tokenizer=custom_tokenizer, min_df=5)\n",
        "\n",
        "# transform text_train using CountVectorizer with lemmatization\n",
        "X_train_lemma = lemma_vect.fit_transform(text_train)\n",
        "print(\"X_train_lemma.shape: {}\".format(X_train_lemma.shape))\n",
        "\n",
        "# standard CountVectorizer for reference\n",
        "vect = CountVectorizer(min_df=1).fit(text_train)\n",
        "X_train = vect.transform(text_train)\n",
        "print(\"X_train.shape: {}\".format(X_train.shape))"
      ],
      "execution_count": 127,
      "outputs": [
        {
          "output_type": "stream",
          "text": [
            "X_train_lemma.shape: (938, 487)\n",
            "X_train.shape: (938, 2843)\n"
          ],
          "name": "stdout"
        }
      ]
    },
    {
      "cell_type": "markdown",
      "metadata": {
        "id": "ccBaltuZo5PS"
      },
      "source": [
        "##CountVectorizer with custom tokenizer"
      ]
    },
    {
      "cell_type": "code",
      "metadata": {
        "id": "zvqLIKOinJnX",
        "colab": {
          "base_uri": "https://localhost:8080/"
        },
        "outputId": "51d275a3-4bd7-43e7-fee2-84f2433fa03c"
      },
      "source": [
        "pipe = make_pipeline(CountVectorizer(tokenizer=custom_tokenizer), LogisticRegression(solver='lbfgs', max_iter=300))\n",
        "\n",
        "param_grid = { 'logisticregression__C': [1],\n",
        "               'countvectorizer__ngram_range': [(1,2)],\n",
        "               'countvectorizer__min_df': [1]}\n",
        "grid = GridSearchCV(pipe, param_grid, cv=5)\n",
        "grid.fit(text_train, y_train)\n",
        "\n",
        "print(grid.best_score_)\n",
        "print(grid.best_params_)\n",
        "\n",
        "print(grid.score(text_train, y_train))\n",
        "print(grid.score(text_test, y_test))"
      ],
      "execution_count": 128,
      "outputs": [
        {
          "output_type": "stream",
          "text": [
            "0.8614063033337125\n",
            "{'countvectorizer__min_df': 1, 'countvectorizer__ngram_range': (1, 2), 'logisticregression__C': 1}\n",
            "0.9989339019189766\n",
            "0.8684863523573201\n"
          ],
          "name": "stdout"
        }
      ]
    },
    {
      "cell_type": "markdown",
      "metadata": {
        "id": "t_pa4kAkpCke"
      },
      "source": [
        "##TfidfVectorizer with custom tokenizer"
      ]
    },
    {
      "cell_type": "code",
      "metadata": {
        "id": "m-r7sBE9pIS7",
        "colab": {
          "base_uri": "https://localhost:8080/"
        },
        "outputId": "6d2bf694-8e78-4667-cbf6-fff1d989f1cf"
      },
      "source": [
        "pipe = make_pipeline(TfidfVectorizer(tokenizer=custom_tokenizer), LogisticRegression(solver='lbfgs', max_iter=300))\n",
        "\n",
        "param_grid = { 'logisticregression__C': [1],\n",
        "               'tfidfvectorizer__ngram_range': [(1,4)],\n",
        "               'tfidfvectorizer__min_df': [2]}\n",
        "grid = GridSearchCV(pipe, param_grid, cv=5)\n",
        "grid.fit(text_train, y_train)\n",
        "\n",
        "print(grid.best_score_)\n",
        "print(grid.best_params_)\n",
        "\n",
        "print(grid.score(text_train, y_train))\n",
        "print(grid.score(text_test, y_test))"
      ],
      "execution_count": 129,
      "outputs": [
        {
          "output_type": "stream",
          "text": [
            "0.8518204573899192\n",
            "{'logisticregression__C': 1, 'tfidfvectorizer__min_df': 2, 'tfidfvectorizer__ngram_range': (1, 4)}\n",
            "0.9498933901918977\n",
            "0.8535980148883374\n"
          ],
          "name": "stdout"
        }
      ]
    },
    {
      "cell_type": "markdown",
      "metadata": {
        "id": "YZyL44FfyyJ4"
      },
      "source": [
        "Лемматизація не покращила точність моделі"
      ]
    },
    {
      "cell_type": "markdown",
      "metadata": {
        "id": "t7mdbYmdyGuN"
      },
      "source": [
        "# nlp approach to this task"
      ]
    },
    {
      "cell_type": "code",
      "metadata": {
        "id": "L_DGfA-AE39r"
      },
      "source": [
        "import spacy\n",
        "from tqdm import tqdm\n",
        "tqdm.pandas()\n",
        "nlp = spacy.load(\"en_core_web_sm\")"
      ],
      "execution_count": null,
      "outputs": []
    },
    {
      "cell_type": "code",
      "metadata": {
        "id": "tf-PHfjlyUok"
      },
      "source": [
        "def preprocessing(sentence):\n",
        "  my_doc = nlp(sentence)\n",
        "  return my_doc.vector"
      ],
      "execution_count": 23,
      "outputs": []
    },
    {
      "cell_type": "code",
      "metadata": {
        "id": "5NuX4esO0dhJ"
      },
      "source": [
        "train_df[\"sentence\"] = train_df[\"sentence\"].progress_apply(preprocessing)"
      ],
      "execution_count": null,
      "outputs": []
    },
    {
      "cell_type": "code",
      "metadata": {
        "id": "Z2W9rd9f3eqP",
        "colab": {
          "base_uri": "https://localhost:8080/",
          "height": 142
        },
        "outputId": "397a9d54-32bd-4491-f15c-0605ac182d73"
      },
      "source": [
        "train_df.head(3)"
      ],
      "execution_count": 25,
      "outputs": [
        {
          "output_type": "execute_result",
          "data": {
            "text/html": [
              "<div>\n",
              "<style scoped>\n",
              "    .dataframe tbody tr th:only-of-type {\n",
              "        vertical-align: middle;\n",
              "    }\n",
              "\n",
              "    .dataframe tbody tr th {\n",
              "        vertical-align: top;\n",
              "    }\n",
              "\n",
              "    .dataframe thead th {\n",
              "        text-align: right;\n",
              "    }\n",
              "</style>\n",
              "<table border=\"1\" class=\"dataframe\">\n",
              "  <thead>\n",
              "    <tr style=\"text-align: right;\">\n",
              "      <th></th>\n",
              "      <th>sentence</th>\n",
              "      <th>values</th>\n",
              "    </tr>\n",
              "  </thead>\n",
              "  <tbody>\n",
              "    <tr>\n",
              "      <th>0</th>\n",
              "      <td>[0.6585645, 1.7065178, 0.18101038, -2.0000494,...</td>\n",
              "      <td>0</td>\n",
              "    </tr>\n",
              "    <tr>\n",
              "      <th>1</th>\n",
              "      <td>[0.08163511, 0.49282035, -0.011897553, -0.4218...</td>\n",
              "      <td>0</td>\n",
              "    </tr>\n",
              "    <tr>\n",
              "      <th>2</th>\n",
              "      <td>[-1.421535, 2.3227625, 0.20886995, -1.6313405,...</td>\n",
              "      <td>0</td>\n",
              "    </tr>\n",
              "  </tbody>\n",
              "</table>\n",
              "</div>"
            ],
            "text/plain": [
              "                                            sentence  values\n",
              "0  [0.6585645, 1.7065178, 0.18101038, -2.0000494,...       0\n",
              "1  [0.08163511, 0.49282035, -0.011897553, -0.4218...       0\n",
              "2  [-1.421535, 2.3227625, 0.20886995, -1.6313405,...       0"
            ]
          },
          "metadata": {
            "tags": []
          },
          "execution_count": 25
        }
      ]
    },
    {
      "cell_type": "code",
      "metadata": {
        "id": "pw8eM1MoiQzE"
      },
      "source": [
        "control_df[\"sentence\"] = control_df[\"sentence\"].progress_apply(preprocessing)"
      ],
      "execution_count": null,
      "outputs": []
    },
    {
      "cell_type": "code",
      "metadata": {
        "id": "M2phXTaHiY2z",
        "colab": {
          "base_uri": "https://localhost:8080/",
          "height": 142
        },
        "outputId": "bcdb8710-6742-45e4-b4fc-db13391c5264"
      },
      "source": [
        "control_df.head(3)"
      ],
      "execution_count": 27,
      "outputs": [
        {
          "output_type": "execute_result",
          "data": {
            "text/html": [
              "<div>\n",
              "<style scoped>\n",
              "    .dataframe tbody tr th:only-of-type {\n",
              "        vertical-align: middle;\n",
              "    }\n",
              "\n",
              "    .dataframe tbody tr th {\n",
              "        vertical-align: top;\n",
              "    }\n",
              "\n",
              "    .dataframe thead th {\n",
              "        text-align: right;\n",
              "    }\n",
              "</style>\n",
              "<table border=\"1\" class=\"dataframe\">\n",
              "  <thead>\n",
              "    <tr style=\"text-align: right;\">\n",
              "      <th></th>\n",
              "      <th>sentence</th>\n",
              "      <th>label</th>\n",
              "    </tr>\n",
              "  </thead>\n",
              "  <tbody>\n",
              "    <tr>\n",
              "      <th>0</th>\n",
              "      <td>[0.0020501136, 0.38563985, -0.31320715, -1.730...</td>\n",
              "      <td>1</td>\n",
              "    </tr>\n",
              "    <tr>\n",
              "      <th>1</th>\n",
              "      <td>[-0.033168305, 0.74333435, -0.536467, -1.08637...</td>\n",
              "      <td>1</td>\n",
              "    </tr>\n",
              "    <tr>\n",
              "      <th>2</th>\n",
              "      <td>[0.15074952, 0.63333315, 0.7372734, -0.3899973...</td>\n",
              "      <td>1</td>\n",
              "    </tr>\n",
              "  </tbody>\n",
              "</table>\n",
              "</div>"
            ],
            "text/plain": [
              "                                            sentence  label\n",
              "0  [0.0020501136, 0.38563985, -0.31320715, -1.730...      1\n",
              "1  [-0.033168305, 0.74333435, -0.536467, -1.08637...      1\n",
              "2  [0.15074952, 0.63333315, 0.7372734, -0.3899973...      1"
            ]
          },
          "metadata": {
            "tags": []
          },
          "execution_count": 27
        }
      ]
    },
    {
      "cell_type": "code",
      "metadata": {
        "id": "2XiEwqFmiqwL"
      },
      "source": [
        "X_control, y_control = control_df['sentence'], control_df['label']"
      ],
      "execution_count": 28,
      "outputs": []
    },
    {
      "cell_type": "code",
      "metadata": {
        "id": "95n5WPF70j8P"
      },
      "source": [
        "from sklearn.model_selection import train_test_split\n",
        "X_train, X_test, y_train, y_test = train_test_split(train_df['sentence'], train_df['values'], test_size=0.30, random_state=0)"
      ],
      "execution_count": 29,
      "outputs": []
    },
    {
      "cell_type": "code",
      "metadata": {
        "id": "RT0sdguw54qB",
        "colab": {
          "base_uri": "https://localhost:8080/"
        },
        "outputId": "be333239-ba38-4b5e-c441-75e5dfc07898"
      },
      "source": [
        "print(X_test.shape)\n",
        "print(np.bincount(y_test))"
      ],
      "execution_count": 30,
      "outputs": [
        {
          "output_type": "stream",
          "text": [
            "(403,)\n",
            "[200 203]\n"
          ],
          "name": "stdout"
        }
      ]
    },
    {
      "cell_type": "code",
      "metadata": {
        "id": "K7_G_j4ci8WK",
        "colab": {
          "base_uri": "https://localhost:8080/"
        },
        "outputId": "1aaaa3f2-d1e0-47fb-a90b-cb69539f44ce"
      },
      "source": [
        "print(X_control.shape)\n",
        "print(np.bincount(y_control))"
      ],
      "execution_count": 31,
      "outputs": [
        {
          "output_type": "stream",
          "text": [
            "(441,)\n",
            "[107 334]\n"
          ],
          "name": "stdout"
        }
      ]
    },
    {
      "cell_type": "code",
      "metadata": {
        "id": "pkoRjyF50lvT",
        "colab": {
          "base_uri": "https://localhost:8080/"
        },
        "outputId": "89aa5cf3-8729-46ab-890d-b16c122ca4eb"
      },
      "source": [
        "logreg = LogisticRegression(max_iter=1000).fit(X_train.to_list(), y_train.to_list())\n",
        "print('Test report:')\n",
        "print(classification_report(logreg.predict(X_test.to_list()), y_test.to_list()))\n",
        "print('Control report:')\n",
        "print(classification_report(logreg.predict(X_control.to_list()), y_control.to_list()))"
      ],
      "execution_count": 36,
      "outputs": [
        {
          "output_type": "stream",
          "text": [
            "Test report:\n",
            "              precision    recall  f1-score   support\n",
            "\n",
            "           0       0.78      0.80      0.79       194\n",
            "           1       0.81      0.78      0.80       209\n",
            "\n",
            "    accuracy                           0.79       403\n",
            "   macro avg       0.79      0.79      0.79       403\n",
            "weighted avg       0.79      0.79      0.79       403\n",
            "\n",
            "Control report:\n",
            "              precision    recall  f1-score   support\n",
            "\n",
            "           0       0.70      0.60      0.65       125\n",
            "           1       0.85      0.90      0.87       316\n",
            "\n",
            "    accuracy                           0.81       441\n",
            "   macro avg       0.78      0.75      0.76       441\n",
            "weighted avg       0.81      0.81      0.81       441\n",
            "\n"
          ],
          "name": "stdout"
        }
      ]
    },
    {
      "cell_type": "code",
      "metadata": {
        "id": "epP078ONjUvV",
        "colab": {
          "base_uri": "https://localhost:8080/"
        },
        "outputId": "8e3d8f00-0581-46a9-edc8-b8715e63a13d"
      },
      "source": [
        "print(X_test.shape)\n",
        "print(np.bincount(y_test))"
      ],
      "execution_count": 37,
      "outputs": [
        {
          "output_type": "stream",
          "text": [
            "(403,)\n",
            "[200 203]\n"
          ],
          "name": "stdout"
        }
      ]
    },
    {
      "cell_type": "code",
      "metadata": {
        "id": "t9YfOr6sjVao",
        "colab": {
          "base_uri": "https://localhost:8080/"
        },
        "outputId": "d35c46c5-9e8b-4e29-8b56-7b53f8b32fa6"
      },
      "source": [
        "print(X_control.shape)\n",
        "print(np.bincount(y_control))"
      ],
      "execution_count": 38,
      "outputs": [
        {
          "output_type": "stream",
          "text": [
            "(441,)\n",
            "[107 334]\n"
          ],
          "name": "stdout"
        }
      ]
    },
    {
      "cell_type": "code",
      "metadata": {
        "id": "fOygkHxD717-",
        "colab": {
          "base_uri": "https://localhost:8080/"
        },
        "outputId": "f248cbbf-458b-48fe-9406-815dcc3bd15f"
      },
      "source": [
        "linear_csv = LinearSVC(C=0.1, max_iter=100000).fit(X_train.to_list(), y_train.to_list())\n",
        "print('Test report:')\n",
        "print(classification_report(linear_csv.predict(X_test.to_list()), y_test.to_list()))\n",
        "print('Control report:')\n",
        "print(classification_report(linear_csv.predict(X_control.to_list()), y_control.to_list()))"
      ],
      "execution_count": 39,
      "outputs": [
        {
          "output_type": "stream",
          "text": [
            "Test report:\n",
            "              precision    recall  f1-score   support\n",
            "\n",
            "           0       0.76      0.81      0.78       187\n",
            "           1       0.82      0.77      0.80       216\n",
            "\n",
            "    accuracy                           0.79       403\n",
            "   macro avg       0.79      0.79      0.79       403\n",
            "weighted avg       0.79      0.79      0.79       403\n",
            "\n",
            "Control report:\n",
            "              precision    recall  f1-score   support\n",
            "\n",
            "           0       0.70      0.60      0.65       124\n",
            "           1       0.85      0.90      0.88       317\n",
            "\n",
            "    accuracy                           0.82       441\n",
            "   macro avg       0.78      0.75      0.76       441\n",
            "weighted avg       0.81      0.82      0.81       441\n",
            "\n"
          ],
          "name": "stdout"
        }
      ]
    },
    {
      "cell_type": "code",
      "metadata": {
        "id": "kVD_o7xaCF1B",
        "colab": {
          "base_uri": "https://localhost:8080/"
        },
        "outputId": "05bce425-4f56-4ea4-fe1f-297a4c3a3e54"
      },
      "source": [
        "print(X_test.shape)\n",
        "print(np.bincount(y_test))"
      ],
      "execution_count": 40,
      "outputs": [
        {
          "output_type": "stream",
          "text": [
            "(403,)\n",
            "[200 203]\n"
          ],
          "name": "stdout"
        }
      ]
    },
    {
      "cell_type": "code",
      "metadata": {
        "id": "UiPsDpQGCH2I",
        "colab": {
          "base_uri": "https://localhost:8080/"
        },
        "outputId": "03eab565-316d-4bc4-b8cf-8a2abe52aed6"
      },
      "source": [
        "print(X_control.shape)\n",
        "print(np.bincount(y_control))"
      ],
      "execution_count": 41,
      "outputs": [
        {
          "output_type": "stream",
          "text": [
            "(441,)\n",
            "[107 334]\n"
          ],
          "name": "stdout"
        }
      ]
    },
    {
      "cell_type": "code",
      "metadata": {
        "id": "zvvyu_Hp8WD4",
        "colab": {
          "base_uri": "https://localhost:8080/"
        },
        "outputId": "87ff3bba-6043-4a15-b01a-dc55c80e7d62"
      },
      "source": [
        "csv = SVC(C=10, gamma=0.01, max_iter=100000).fit(X_train.to_list(), y_train.to_list())\n",
        "print('Test report:')\n",
        "print(classification_report(csv.predict(X_test.to_list()), y_test.to_list()))\n",
        "print('Control report:')\n",
        "print(classification_report(csv.predict(X_control.to_list()), y_control.to_list()))"
      ],
      "execution_count": 42,
      "outputs": [
        {
          "output_type": "stream",
          "text": [
            "Test report:\n",
            "              precision    recall  f1-score   support\n",
            "\n",
            "           0       0.75      0.82      0.78       183\n",
            "           1       0.84      0.77      0.80       220\n",
            "\n",
            "    accuracy                           0.79       403\n",
            "   macro avg       0.79      0.80      0.79       403\n",
            "weighted avg       0.80      0.79      0.79       403\n",
            "\n",
            "Control report:\n",
            "              precision    recall  f1-score   support\n",
            "\n",
            "           0       0.73      0.66      0.69       118\n",
            "           1       0.88      0.91      0.89       323\n",
            "\n",
            "    accuracy                           0.84       441\n",
            "   macro avg       0.80      0.79      0.79       441\n",
            "weighted avg       0.84      0.84      0.84       441\n",
            "\n"
          ],
          "name": "stdout"
        }
      ]
    },
    {
      "cell_type": "markdown",
      "metadata": {
        "id": "3kwjmDriYLVS"
      },
      "source": [
        "nlp підхід показав нижчу результативність моделей, ніж CountVectorizer"
      ]
    }
  ]
}